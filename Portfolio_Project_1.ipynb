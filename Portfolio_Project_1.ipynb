{
  "nbformat": 4,
  "nbformat_minor": 0,
  "metadata": {
    "colab": {
      "provenance": [],
      "authorship_tag": "ABX9TyNDAPwp1OEp6qZDcYm7osNM",
      "include_colab_link": true
    },
    "kernelspec": {
      "name": "python3",
      "display_name": "Python 3"
    },
    "language_info": {
      "name": "python"
    }
  },
  "cells": [
    {
      "cell_type": "markdown",
      "metadata": {
        "id": "view-in-github",
        "colab_type": "text"
      },
      "source": [
        "<a href=\"https://colab.research.google.com/github/Snizhana-DA/A-B-Testing-Analysis-Statistical-Significance/blob/main/Portfolio_Project_1.ipynb\" target=\"_parent\"><img src=\"https://colab.research.google.com/assets/colab-badge.svg\" alt=\"Open In Colab\"/></a>"
      ]
    },
    {
      "cell_type": "code",
      "execution_count": null,
      "metadata": {
        "colab": {
          "base_uri": "https://localhost:8080/",
          "height": 241
        },
        "id": "a8SH62mOUPII",
        "outputId": "2bf9d1c7-1a58-4bc1-9e12-307bedde81f8"
      },
      "outputs": [
        {
          "output_type": "stream",
          "name": "stdout",
          "text": [
            "Mounted at /content/drive\n",
            "/content/drive/MyDrive/Pandas\n"
          ]
        },
        {
          "output_type": "execute_result",
          "data": {
            "text/plain": [
              "         date          country   device continent         channel  test  \\\n",
              "0  2020-11-01        Lithuania   mobile    Europe  Organic Search     2   \n",
              "1  2020-11-01      El Salvador  desktop  Americas   Social Search     2   \n",
              "2  2020-11-01         Slovakia   mobile    Europe     Paid Search     2   \n",
              "3  2020-11-01        Lithuania  desktop    Europe     Paid Search     2   \n",
              "4  2020-11-02  North Macedonia  desktop    Europe          Direct     2   \n",
              "\n",
              "   test_group   event_name  value  \n",
              "0           2  new_account      1  \n",
              "1           1  new_account      1  \n",
              "2           2  new_account      1  \n",
              "3           2  new_account      1  \n",
              "4           1  new_account      1  "
            ],
            "text/html": [
              "\n",
              "  <div id=\"df-3f6cf67e-de82-4c63-a52e-e30b4b6d4a96\" class=\"colab-df-container\">\n",
              "    <div>\n",
              "<style scoped>\n",
              "    .dataframe tbody tr th:only-of-type {\n",
              "        vertical-align: middle;\n",
              "    }\n",
              "\n",
              "    .dataframe tbody tr th {\n",
              "        vertical-align: top;\n",
              "    }\n",
              "\n",
              "    .dataframe thead th {\n",
              "        text-align: right;\n",
              "    }\n",
              "</style>\n",
              "<table border=\"1\" class=\"dataframe\">\n",
              "  <thead>\n",
              "    <tr style=\"text-align: right;\">\n",
              "      <th></th>\n",
              "      <th>date</th>\n",
              "      <th>country</th>\n",
              "      <th>device</th>\n",
              "      <th>continent</th>\n",
              "      <th>channel</th>\n",
              "      <th>test</th>\n",
              "      <th>test_group</th>\n",
              "      <th>event_name</th>\n",
              "      <th>value</th>\n",
              "    </tr>\n",
              "  </thead>\n",
              "  <tbody>\n",
              "    <tr>\n",
              "      <th>0</th>\n",
              "      <td>2020-11-01</td>\n",
              "      <td>Lithuania</td>\n",
              "      <td>mobile</td>\n",
              "      <td>Europe</td>\n",
              "      <td>Organic Search</td>\n",
              "      <td>2</td>\n",
              "      <td>2</td>\n",
              "      <td>new_account</td>\n",
              "      <td>1</td>\n",
              "    </tr>\n",
              "    <tr>\n",
              "      <th>1</th>\n",
              "      <td>2020-11-01</td>\n",
              "      <td>El Salvador</td>\n",
              "      <td>desktop</td>\n",
              "      <td>Americas</td>\n",
              "      <td>Social Search</td>\n",
              "      <td>2</td>\n",
              "      <td>1</td>\n",
              "      <td>new_account</td>\n",
              "      <td>1</td>\n",
              "    </tr>\n",
              "    <tr>\n",
              "      <th>2</th>\n",
              "      <td>2020-11-01</td>\n",
              "      <td>Slovakia</td>\n",
              "      <td>mobile</td>\n",
              "      <td>Europe</td>\n",
              "      <td>Paid Search</td>\n",
              "      <td>2</td>\n",
              "      <td>2</td>\n",
              "      <td>new_account</td>\n",
              "      <td>1</td>\n",
              "    </tr>\n",
              "    <tr>\n",
              "      <th>3</th>\n",
              "      <td>2020-11-01</td>\n",
              "      <td>Lithuania</td>\n",
              "      <td>desktop</td>\n",
              "      <td>Europe</td>\n",
              "      <td>Paid Search</td>\n",
              "      <td>2</td>\n",
              "      <td>2</td>\n",
              "      <td>new_account</td>\n",
              "      <td>1</td>\n",
              "    </tr>\n",
              "    <tr>\n",
              "      <th>4</th>\n",
              "      <td>2020-11-02</td>\n",
              "      <td>North Macedonia</td>\n",
              "      <td>desktop</td>\n",
              "      <td>Europe</td>\n",
              "      <td>Direct</td>\n",
              "      <td>2</td>\n",
              "      <td>1</td>\n",
              "      <td>new_account</td>\n",
              "      <td>1</td>\n",
              "    </tr>\n",
              "  </tbody>\n",
              "</table>\n",
              "</div>\n",
              "    <div class=\"colab-df-buttons\">\n",
              "\n",
              "  <div class=\"colab-df-container\">\n",
              "    <button class=\"colab-df-convert\" onclick=\"convertToInteractive('df-3f6cf67e-de82-4c63-a52e-e30b4b6d4a96')\"\n",
              "            title=\"Convert this dataframe to an interactive table.\"\n",
              "            style=\"display:none;\">\n",
              "\n",
              "  <svg xmlns=\"http://www.w3.org/2000/svg\" height=\"24px\" viewBox=\"0 -960 960 960\">\n",
              "    <path d=\"M120-120v-720h720v720H120Zm60-500h600v-160H180v160Zm220 220h160v-160H400v160Zm0 220h160v-160H400v160ZM180-400h160v-160H180v160Zm440 0h160v-160H620v160ZM180-180h160v-160H180v160Zm440 0h160v-160H620v160Z\"/>\n",
              "  </svg>\n",
              "    </button>\n",
              "\n",
              "  <style>\n",
              "    .colab-df-container {\n",
              "      display:flex;\n",
              "      gap: 12px;\n",
              "    }\n",
              "\n",
              "    .colab-df-convert {\n",
              "      background-color: #E8F0FE;\n",
              "      border: none;\n",
              "      border-radius: 50%;\n",
              "      cursor: pointer;\n",
              "      display: none;\n",
              "      fill: #1967D2;\n",
              "      height: 32px;\n",
              "      padding: 0 0 0 0;\n",
              "      width: 32px;\n",
              "    }\n",
              "\n",
              "    .colab-df-convert:hover {\n",
              "      background-color: #E2EBFA;\n",
              "      box-shadow: 0px 1px 2px rgba(60, 64, 67, 0.3), 0px 1px 3px 1px rgba(60, 64, 67, 0.15);\n",
              "      fill: #174EA6;\n",
              "    }\n",
              "\n",
              "    .colab-df-buttons div {\n",
              "      margin-bottom: 4px;\n",
              "    }\n",
              "\n",
              "    [theme=dark] .colab-df-convert {\n",
              "      background-color: #3B4455;\n",
              "      fill: #D2E3FC;\n",
              "    }\n",
              "\n",
              "    [theme=dark] .colab-df-convert:hover {\n",
              "      background-color: #434B5C;\n",
              "      box-shadow: 0px 1px 3px 1px rgba(0, 0, 0, 0.15);\n",
              "      filter: drop-shadow(0px 1px 2px rgba(0, 0, 0, 0.3));\n",
              "      fill: #FFFFFF;\n",
              "    }\n",
              "  </style>\n",
              "\n",
              "    <script>\n",
              "      const buttonEl =\n",
              "        document.querySelector('#df-3f6cf67e-de82-4c63-a52e-e30b4b6d4a96 button.colab-df-convert');\n",
              "      buttonEl.style.display =\n",
              "        google.colab.kernel.accessAllowed ? 'block' : 'none';\n",
              "\n",
              "      async function convertToInteractive(key) {\n",
              "        const element = document.querySelector('#df-3f6cf67e-de82-4c63-a52e-e30b4b6d4a96');\n",
              "        const dataTable =\n",
              "          await google.colab.kernel.invokeFunction('convertToInteractive',\n",
              "                                                    [key], {});\n",
              "        if (!dataTable) return;\n",
              "\n",
              "        const docLinkHtml = 'Like what you see? Visit the ' +\n",
              "          '<a target=\"_blank\" href=https://colab.research.google.com/notebooks/data_table.ipynb>data table notebook</a>'\n",
              "          + ' to learn more about interactive tables.';\n",
              "        element.innerHTML = '';\n",
              "        dataTable['output_type'] = 'display_data';\n",
              "        await google.colab.output.renderOutput(dataTable, element);\n",
              "        const docLink = document.createElement('div');\n",
              "        docLink.innerHTML = docLinkHtml;\n",
              "        element.appendChild(docLink);\n",
              "      }\n",
              "    </script>\n",
              "  </div>\n",
              "\n",
              "\n",
              "<div id=\"df-fc60a8cc-eb3b-4e05-ad12-a32e94168a9c\">\n",
              "  <button class=\"colab-df-quickchart\" onclick=\"quickchart('df-fc60a8cc-eb3b-4e05-ad12-a32e94168a9c')\"\n",
              "            title=\"Suggest charts\"\n",
              "            style=\"display:none;\">\n",
              "\n",
              "<svg xmlns=\"http://www.w3.org/2000/svg\" height=\"24px\"viewBox=\"0 0 24 24\"\n",
              "     width=\"24px\">\n",
              "    <g>\n",
              "        <path d=\"M19 3H5c-1.1 0-2 .9-2 2v14c0 1.1.9 2 2 2h14c1.1 0 2-.9 2-2V5c0-1.1-.9-2-2-2zM9 17H7v-7h2v7zm4 0h-2V7h2v10zm4 0h-2v-4h2v4z\"/>\n",
              "    </g>\n",
              "</svg>\n",
              "  </button>\n",
              "\n",
              "<style>\n",
              "  .colab-df-quickchart {\n",
              "      --bg-color: #E8F0FE;\n",
              "      --fill-color: #1967D2;\n",
              "      --hover-bg-color: #E2EBFA;\n",
              "      --hover-fill-color: #174EA6;\n",
              "      --disabled-fill-color: #AAA;\n",
              "      --disabled-bg-color: #DDD;\n",
              "  }\n",
              "\n",
              "  [theme=dark] .colab-df-quickchart {\n",
              "      --bg-color: #3B4455;\n",
              "      --fill-color: #D2E3FC;\n",
              "      --hover-bg-color: #434B5C;\n",
              "      --hover-fill-color: #FFFFFF;\n",
              "      --disabled-bg-color: #3B4455;\n",
              "      --disabled-fill-color: #666;\n",
              "  }\n",
              "\n",
              "  .colab-df-quickchart {\n",
              "    background-color: var(--bg-color);\n",
              "    border: none;\n",
              "    border-radius: 50%;\n",
              "    cursor: pointer;\n",
              "    display: none;\n",
              "    fill: var(--fill-color);\n",
              "    height: 32px;\n",
              "    padding: 0;\n",
              "    width: 32px;\n",
              "  }\n",
              "\n",
              "  .colab-df-quickchart:hover {\n",
              "    background-color: var(--hover-bg-color);\n",
              "    box-shadow: 0 1px 2px rgba(60, 64, 67, 0.3), 0 1px 3px 1px rgba(60, 64, 67, 0.15);\n",
              "    fill: var(--button-hover-fill-color);\n",
              "  }\n",
              "\n",
              "  .colab-df-quickchart-complete:disabled,\n",
              "  .colab-df-quickchart-complete:disabled:hover {\n",
              "    background-color: var(--disabled-bg-color);\n",
              "    fill: var(--disabled-fill-color);\n",
              "    box-shadow: none;\n",
              "  }\n",
              "\n",
              "  .colab-df-spinner {\n",
              "    border: 2px solid var(--fill-color);\n",
              "    border-color: transparent;\n",
              "    border-bottom-color: var(--fill-color);\n",
              "    animation:\n",
              "      spin 1s steps(1) infinite;\n",
              "  }\n",
              "\n",
              "  @keyframes spin {\n",
              "    0% {\n",
              "      border-color: transparent;\n",
              "      border-bottom-color: var(--fill-color);\n",
              "      border-left-color: var(--fill-color);\n",
              "    }\n",
              "    20% {\n",
              "      border-color: transparent;\n",
              "      border-left-color: var(--fill-color);\n",
              "      border-top-color: var(--fill-color);\n",
              "    }\n",
              "    30% {\n",
              "      border-color: transparent;\n",
              "      border-left-color: var(--fill-color);\n",
              "      border-top-color: var(--fill-color);\n",
              "      border-right-color: var(--fill-color);\n",
              "    }\n",
              "    40% {\n",
              "      border-color: transparent;\n",
              "      border-right-color: var(--fill-color);\n",
              "      border-top-color: var(--fill-color);\n",
              "    }\n",
              "    60% {\n",
              "      border-color: transparent;\n",
              "      border-right-color: var(--fill-color);\n",
              "    }\n",
              "    80% {\n",
              "      border-color: transparent;\n",
              "      border-right-color: var(--fill-color);\n",
              "      border-bottom-color: var(--fill-color);\n",
              "    }\n",
              "    90% {\n",
              "      border-color: transparent;\n",
              "      border-bottom-color: var(--fill-color);\n",
              "    }\n",
              "  }\n",
              "</style>\n",
              "\n",
              "  <script>\n",
              "    async function quickchart(key) {\n",
              "      const quickchartButtonEl =\n",
              "        document.querySelector('#' + key + ' button');\n",
              "      quickchartButtonEl.disabled = true;  // To prevent multiple clicks.\n",
              "      quickchartButtonEl.classList.add('colab-df-spinner');\n",
              "      try {\n",
              "        const charts = await google.colab.kernel.invokeFunction(\n",
              "            'suggestCharts', [key], {});\n",
              "      } catch (error) {\n",
              "        console.error('Error during call to suggestCharts:', error);\n",
              "      }\n",
              "      quickchartButtonEl.classList.remove('colab-df-spinner');\n",
              "      quickchartButtonEl.classList.add('colab-df-quickchart-complete');\n",
              "    }\n",
              "    (() => {\n",
              "      let quickchartButtonEl =\n",
              "        document.querySelector('#df-fc60a8cc-eb3b-4e05-ad12-a32e94168a9c button');\n",
              "      quickchartButtonEl.style.display =\n",
              "        google.colab.kernel.accessAllowed ? 'block' : 'none';\n",
              "    })();\n",
              "  </script>\n",
              "</div>\n",
              "\n",
              "    </div>\n",
              "  </div>\n"
            ],
            "application/vnd.google.colaboratory.intrinsic+json": {
              "type": "dataframe",
              "variable_name": "df"
            }
          },
          "metadata": {},
          "execution_count": 1
        }
      ],
      "source": [
        "# Виведення перших 5 рядків датасету\n",
        "import numpy as np\n",
        "import pandas as pd\n",
        "import statsmodels.api as sm\n",
        "from scipy.stats import mannwhitneyu\n",
        "from google.colab import drive\n",
        "drive.mount(\"/content/drive\")\n",
        "%cd /content/drive/MyDrive/Pandas\n",
        "df = pd.read_csv(\"ab_test.csv\")\n",
        "df.head()"
      ]
    },
    {
      "cell_type": "markdown",
      "source": [
        "## Розрахунок статистичної значущості чотирьох метрик в тоталі для тесту 1."
      ],
      "metadata": {
        "id": "4EOsofNrUZWD"
      }
    },
    {
      "cell_type": "code",
      "source": [
        "# Виведення результатів тесту 1 в тоталі\n",
        "filtered_df = df[df[\"test\"] == 1]\n",
        "grouped_df1 = filtered_df.groupby([\"event_name\", \"test_group\"])[\"value\"].sum().unstack().reset_index()  # Скидаємо індекс, щоб event_name став колонкою\n",
        "# Перейменовуємо стовпці\n",
        "grouped_df1.columns = [\"event_name\", \"test_group1\", \"test_group2\"]\n",
        "print(grouped_df1)"
      ],
      "metadata": {
        "id": "Qrq7C85uUVeS",
        "colab": {
          "base_uri": "https://localhost:8080/"
        },
        "outputId": "4a2f7dd7-e7ec-47f1-df17-7918c6e7cc59"
      },
      "execution_count": null,
      "outputs": [
        {
          "output_type": "stream",
          "name": "stdout",
          "text": [
            "             event_name  test_group1  test_group2\n",
            "0      add_payment_info         1988         2229\n",
            "1     add_shipping_info         3034         3221\n",
            "2           add_to_cart         1395         1366\n",
            "3        begin_checkout         3784         4021\n",
            "4                 click          368          353\n",
            "5           first_visit        30596        30512\n",
            "6           new_account         3823         3681\n",
            "7             page_view       191543       198050\n",
            "8                scroll        73244        73376\n",
            "9           select_item          543          530\n",
            "10     select_promotion         1275         1323\n",
            "11              session        45362        45193\n",
            "12        session_start        45905        45649\n",
            "13  session_with_orders         4514         4526\n",
            "14      user_engagement       171788       179081\n",
            "15            view_item        62335        65337\n",
            "16       view_item_list           27           24\n",
            "17       view_promotion        29188        29117\n",
            "18  view_search_results         3678         3882\n"
          ]
        }
      ]
    },
    {
      "cell_type": "code",
      "source": [
        "# Перевірка розподілу даних в групах\n",
        "total_group1 = grouped_df1[\"test_group1\"].sum()\n",
        "total_group2 = grouped_df1[\"test_group2\"].sum()\n",
        "total = total_group1 + total_group2\n",
        "proportion_group1 = total_group1 / total\n",
        "proportion_group2 = total_group2 / total\n",
        "print(f\"Пропорція групи 1: {proportion_group1:.2%}\")\n",
        "print(f\"Пропорція групи 2: {proportion_group2:.2%}\")\n",
        "if 0.48 <= proportion_group1 <= 0.52:\n",
        "    print(\"Розподіл в групах є рівномірним.\")\n",
        "else:\n",
        "    print(\"Розподіл в групах не рівномірний.\")"
      ],
      "metadata": {
        "colab": {
          "base_uri": "https://localhost:8080/"
        },
        "id": "HSsH-yXBLhVm",
        "outputId": "aa66f96c-f7da-4223-d431-ee00fbe4ea56"
      },
      "execution_count": null,
      "outputs": [
        {
          "output_type": "stream",
          "name": "stdout",
          "text": [
            "Пропорція групи 1: 49.37%\n",
            "Пропорція групи 2: 50.63%\n",
            "Розподіл в групах є рівномірним.\n"
          ]
        }
      ]
    },
    {
      "cell_type": "code",
      "source": [
        "# Розрахунок статистичної значущості метрики: add_payment_info / session\n",
        "# Витягуємо кількість сесій та add_payment_info для обох груп\n",
        "session_1 = grouped_df1.loc[grouped_df1[\"event_name\"]==\"session\", \"test_group1\"].iloc[0]  # number of session for group 1\n",
        "session_2 = grouped_df1.loc[grouped_df1[\"event_name\"]==\"session\", \"test_group2\"].iloc[0]  # number of session for group 2\n",
        "add_payment_info_1 = grouped_df1.loc[grouped_df1[\"event_name\"]==\"add_payment_info\", \"test_group1\"].iloc[0]   # number of add_payment_info for group 1\n",
        "add_payment_info_2 = grouped_df1.loc[grouped_df1[\"event_name\"]==\"add_payment_info\", \"test_group2\"].iloc[0]  # number of add_payment_info for group 2\n",
        "# Обчислюємо конверсії\n",
        "conversion_rate_1 = add_payment_info_1 / session_1\n",
        "conversion_rate_2 = add_payment_info_2 / session_2\n",
        "print(f\"Conversion Rate Group 1: {conversion_rate_1:.2%}\")\n",
        "print(f\"Conversion Rate Group 2: {conversion_rate_2:.2%}\")\n",
        "metric_change = conversion_rate_2 / conversion_rate_1 - 1\n",
        "print(f\"Metric_change: {metric_change:.2%}\")\n",
        "# Виконуємо Z-тест\n",
        "z_stat, p_value = sm.stats.proportions_ztest([add_payment_info_1, add_payment_info_2], [session_1, session_2])\n",
        "print(f\"Z-statistic: {z_stat}\")\n",
        "print(f\"P-value: {p_value}\")\n",
        "# Інтерпретація результатів\n",
        "if p_value < 0.05:\n",
        "  significant = True\n",
        "else:\n",
        "    significant = False\n",
        "print(f\"Significant: {significant}\")"
      ],
      "metadata": {
        "colab": {
          "base_uri": "https://localhost:8080/"
        },
        "id": "5ZevVZQ3YCD7",
        "outputId": "55373789-4394-4e44-ab12-6b140391babb"
      },
      "execution_count": null,
      "outputs": [
        {
          "output_type": "stream",
          "name": "stdout",
          "text": [
            "Conversion Rate Group 1: 4.38%\n",
            "Conversion Rate Group 2: 4.93%\n",
            "Metric_change: 12.54%\n",
            "Z-statistic: -3.924884023129521\n",
            "P-value: 8.677153267271231e-05\n",
            "Significant: True\n"
          ]
        }
      ]
    },
    {
      "cell_type": "markdown",
      "source": [
        "**Висновок:**\n",
        "Оскільки p-value дуже малий, ми відкидаємо нульову гіпотезу (H₀), що між групами немає різниці. Z-statistic - від'ємне значення, означає, що група 2 має вищу конверсію Add Payment Info щодо кількості сесій, ніж група 1. Зміни, застосовані до групи 2, мали позитивний ефект.\n"
      ],
      "metadata": {
        "id": "HrLo57viM5nE"
      }
    },
    {
      "cell_type": "code",
      "source": [
        "# Розрахунок статистичної значущості метрики: add_shipping_info / session\n",
        "\n",
        "# Витягуємо кількість сесій та add_shipping_info для обох груп\n",
        "session_1 = grouped_df1.loc[grouped_df1[\"event_name\"]==\"session\", \"test_group1\"].iloc[0]  # number of session for group 1\n",
        "session_2 = grouped_df1.loc[grouped_df1[\"event_name\"]==\"session\", \"test_group2\"].iloc[0]  # number of session for group 2\n",
        "add_shipping_info_1 = grouped_df1.loc[grouped_df1[\"event_name\"]==\"add_shipping_info\", \"test_group1\"].iloc[0]   # number of add_shipping_info for group 1\n",
        "add_shipping_info_2 = grouped_df1.loc[grouped_df1[\"event_name\"]==\"add_shipping_info\", \"test_group2\"].iloc[0]  # number of add_shipping_info for group 2\n",
        "# Обчислюємо конверсії\n",
        "conversion_rate_1 = add_shipping_info_1 / session_1\n",
        "conversion_rate_2 = add_shipping_info_2 / session_2\n",
        "print(f\"Conversion Rate Group 1: {conversion_rate_1:.2%}\")\n",
        "print(f\"Conversion Rate Group 2: {conversion_rate_2:.2%}\")\n",
        "metric_change = conversion_rate_2 / conversion_rate_1 - 1\n",
        "print(f\"Metric_change: {metric_change:.2%}\")\n",
        "# Виконуємо Z-тест\n",
        "z_stat, p_value = sm.stats.proportions_ztest([add_shipping_info_1, add_shipping_info_2], [session_1, session_2])\n",
        "print(f\"Z-statistic: {z_stat}\")\n",
        "print(f\"P-value: {p_value}\")\n",
        "# Інтерпретація результатів\n",
        "if p_value < 0.05:\n",
        "  significant = True\n",
        "else:\n",
        "    significant = False\n",
        "print(f\"Significant: {significant}\")"
      ],
      "metadata": {
        "colab": {
          "base_uri": "https://localhost:8080/"
        },
        "id": "4isAfAx-FE2A",
        "outputId": "6eecf93a-2a42-4685-812c-a2e4e22ba556"
      },
      "execution_count": null,
      "outputs": [
        {
          "output_type": "stream",
          "name": "stdout",
          "text": [
            "Conversion Rate Group 1: 6.69%\n",
            "Conversion Rate Group 2: 7.13%\n",
            "Metric_change: 6.56%\n",
            "Z-statistic: -2.603571454721395\n",
            "P-value: 0.009225803404204286\n",
            "Significant: True\n"
          ]
        }
      ]
    },
    {
      "cell_type": "markdown",
      "source": [
        "**Висновок:**\n",
        "Група 2 має вищу конверсію Add shipping Info щодо кількості сесій, ніж група 1. Зміни, застосовані до групи 2, мали позитивний ефект."
      ],
      "metadata": {
        "id": "IaWQ6jGjPVNc"
      }
    },
    {
      "cell_type": "code",
      "source": [
        "# Розрахунок статистичної значущості метрики: begin_checkout / session\n",
        "\n",
        "# Витягуємо кількість сесій та begin_checkout для обох груп\n",
        "session_1 = grouped_df1.loc[grouped_df1[\"event_name\"]==\"session\", \"test_group1\"].iloc[0]  # number of session for group 1\n",
        "session_2 = grouped_df1.loc[grouped_df1[\"event_name\"]==\"session\", \"test_group2\"].iloc[0]  # number of session for group 2\n",
        "begin_checkout_1 = grouped_df1.loc[grouped_df1[\"event_name\"]==\"begin_checkout\", \"test_group1\"].iloc[0]   # number of begin_checkout for group 1\n",
        "begin_checkout_2 = grouped_df1.loc[grouped_df1[\"event_name\"]==\"begin_checkout\", \"test_group2\"].iloc[0]  # number of begin_checkout for group 2\n",
        "# Обчислюємо конверсії\n",
        "conversion_rate_1 = begin_checkout_1 / session_1\n",
        "conversion_rate_2 = begin_checkout_2 / session_2\n",
        "print(f\"Conversion Rate Group 1: {conversion_rate_1:.2%}\")\n",
        "print(f\"Conversion Rate Group 2: {conversion_rate_2:.2%}\")\n",
        "metric_change = conversion_rate_2 / conversion_rate_1 - 1\n",
        "print(f\"Metric_change: {metric_change:.2%}\")\n",
        "# Виконуємо Z-тест\n",
        "z_stat, p_value = sm.stats.proportions_ztest([begin_checkout_1, begin_checkout_2], [session_1, session_2])\n",
        "print(f\"Z-statistic: {z_stat}\")\n",
        "print(f\"P-value: {p_value}\")\n",
        "# Інтерпретація результатів\n",
        "if p_value < 0.05:\n",
        "  significant = True\n",
        "else:\n",
        "    significant = False\n",
        "print(f\"Significant: {significant}\")"
      ],
      "metadata": {
        "colab": {
          "base_uri": "https://localhost:8080/"
        },
        "id": "qFwFp_S4FGeK",
        "outputId": "4b78e3ac-4448-4e40-9ede-0d9b40299b35"
      },
      "execution_count": null,
      "outputs": [
        {
          "output_type": "stream",
          "name": "stdout",
          "text": [
            "Conversion Rate Group 1: 8.34%\n",
            "Conversion Rate Group 2: 8.90%\n",
            "Metric_change: 6.66%\n",
            "Z-statistic: -2.978782961833959\n",
            "P-value: 0.0028939568500496436\n",
            "Significant: True\n"
          ]
        }
      ]
    },
    {
      "cell_type": "markdown",
      "source": [
        "**Висновок:**\n",
        "Група 2 має вищу конверсію Begin Checkout щодо кількості сесій, ніж група 1. Зміни, застосовані до групи 2, мали позитивний ефект."
      ],
      "metadata": {
        "id": "6W2FS8UNQKJi"
      }
    },
    {
      "cell_type": "code",
      "source": [
        "# Розрахунок статистичної значущості метрики: new_accounts / session\n",
        "# Витягуємо кількість сесій та new_accounts для обох груп\n",
        "session_1 = grouped_df1.loc[grouped_df1[\"event_name\"]==\"session\", \"test_group1\"].iloc[0]  # number of session for group 1\n",
        "session_2 = grouped_df1.loc[grouped_df1[\"event_name\"]==\"session\", \"test_group2\"].iloc[0]  # number of session for group 2\n",
        "new_account_1 = grouped_df1.loc[grouped_df1[\"event_name\"]==\"new_account\", \"test_group1\"].iloc[0]   # number of new_accounts for group 1\n",
        "new_account_2 = grouped_df1.loc[grouped_df1[\"event_name\"]==\"new_account\", \"test_group2\"].iloc[0]  # number of new_accounts for group 2\n",
        "# Обчислюємо конверсії\n",
        "conversion_rate_1 = new_account_1 / session_1\n",
        "conversion_rate_2 = new_account_2 / session_2\n",
        "print(f\"Conversion Rate Group 1: {conversion_rate_1:.2%}\")\n",
        "print(f\"Conversion Rate Group 2: {conversion_rate_2:.2%}\")\n",
        "metric_change = conversion_rate_2 / conversion_rate_1 - 1\n",
        "print(f\"Metric_change: {metric_change:.2%}\")\n",
        "# Виконуємо Z-тест\n",
        "z_stat, p_value = sm.stats.proportions_ztest([new_account_1, new_account_2], [session_1, session_2])\n",
        "print(f\"Z-statistic: {z_stat}\")\n",
        "print(f\"P-value: {p_value}\")\n",
        "# Інтерпретація результатів\n",
        "if p_value < 0.05:\n",
        "  significant = True\n",
        "else:\n",
        "    significant = False\n",
        "print(f\"Significant: {significant}\")"
      ],
      "metadata": {
        "colab": {
          "base_uri": "https://localhost:8080/"
        },
        "id": "4TZ7IN6tFHp5",
        "outputId": "05c973c0-2dbb-4a59-c7ce-f4d2ba3b329b"
      },
      "execution_count": null,
      "outputs": [
        {
          "output_type": "stream",
          "name": "stdout",
          "text": [
            "Conversion Rate Group 1: 8.43%\n",
            "Conversion Rate Group 2: 8.15%\n",
            "Metric_change: -3.35%\n",
            "Z-statistic: 1.542882614576384\n",
            "P-value: 0.1228592597741769\n",
            "Significant: False\n"
          ]
        }
      ]
    },
    {
      "cell_type": "markdown",
      "source": [
        "**Висновок:**\n",
        "Метрика new account / session просіла в допустимих діапазонах, результат не є статистично значущим."
      ],
      "metadata": {
        "id": "RxiGKkl0QskE"
      }
    },
    {
      "cell_type": "markdown",
      "source": [
        "### Спрощення коду за допомогою циклу."
      ],
      "metadata": {
        "id": "ykITBQbEYFml"
      }
    },
    {
      "cell_type": "code",
      "source": [
        "# Список метрик, які потрібно обробити\n",
        "metrics = ['add_payment_info', 'add_shipping_info', 'begin_checkout', 'new_account']\n",
        "# Створення списків для обчислення сесій та кількості подій для кожної групи\n",
        "for metric in metrics:\n",
        "    # Витягуємо кількість сесій та метрики для обох груп\n",
        "    session_1 = grouped_df1.loc[grouped_df1[\"event_name\"] == \"session\", \"test_group1\"].iloc[0]  # number of session for group 1\n",
        "    session_2 = grouped_df1.loc[grouped_df1[\"event_name\"] == \"session\", \"test_group2\"].iloc[0]  # number of session for group 2\n",
        "    event_1 = grouped_df1.loc[grouped_df1[\"event_name\"] == metric, \"test_group1\"].iloc[0]  # number of event for group 1\n",
        "    event_2 = grouped_df1.loc[grouped_df1[\"event_name\"] == metric, \"test_group2\"].iloc[0]  # number of event for group 2\n",
        "    # Обчислюємо конверсії для кожної метрики\n",
        "    conversion_rate_1 = event_1 / session_1\n",
        "    conversion_rate_2 = event_2 / session_2\n",
        "    print(f\"Conversion Rate {metric.capitalize()} Group 1: {conversion_rate_1:.2%}\")\n",
        "    print(f\"Conversion Rate {metric.capitalize()} Group 2: {conversion_rate_2:.2%}\")\n",
        "    metric_change = conversion_rate_2 / conversion_rate_1 - 1\n",
        "    print(f\"Metric_change: {metric_change:.2%}\")\n",
        "    # Виконуємо Z-тест для кожної метрики\n",
        "    z_stat, p_value = sm.stats.proportions_ztest([event_1, event_2], [session_1, session_2])\n",
        "    print(f\"Z-statistic for {metric.capitalize()}: {z_stat}\")\n",
        "    print(f\"P-value for {metric.capitalize()}: {p_value}\")\n",
        "    # Інтерпретація результатів\n",
        "    significant = p_value < 0.05\n",
        "    print(f\"Significant for {metric}: {'True' if significant else 'False'}\")\n",
        "    print(\"-\" * 50)  # Роздільник для кращої читабельності"
      ],
      "metadata": {
        "colab": {
          "base_uri": "https://localhost:8080/"
        },
        "id": "wt36tEb1Xreg",
        "outputId": "54ad3b48-f567-44b9-f038-8640370feeb2"
      },
      "execution_count": null,
      "outputs": [
        {
          "output_type": "stream",
          "name": "stdout",
          "text": [
            "Conversion Rate Add_payment_info Group 1: 4.38%\n",
            "Conversion Rate Add_payment_info Group 2: 4.93%\n",
            "Metric_change: 12.54%\n",
            "Z-statistic for Add_payment_info: -3.924884023129521\n",
            "P-value for Add_payment_info: 8.677153267271231e-05\n",
            "Significant for add_payment_info: True\n",
            "--------------------------------------------------\n",
            "Conversion Rate Add_shipping_info Group 1: 6.69%\n",
            "Conversion Rate Add_shipping_info Group 2: 7.13%\n",
            "Metric_change: 6.56%\n",
            "Z-statistic for Add_shipping_info: -2.603571454721395\n",
            "P-value for Add_shipping_info: 0.009225803404204286\n",
            "Significant for add_shipping_info: True\n",
            "--------------------------------------------------\n",
            "Conversion Rate Begin_checkout Group 1: 8.34%\n",
            "Conversion Rate Begin_checkout Group 2: 8.90%\n",
            "Metric_change: 6.66%\n",
            "Z-statistic for Begin_checkout: -2.978782961833959\n",
            "P-value for Begin_checkout: 0.0028939568500496436\n",
            "Significant for begin_checkout: True\n",
            "--------------------------------------------------\n",
            "Conversion Rate New_account Group 1: 8.43%\n",
            "Conversion Rate New_account Group 2: 8.15%\n",
            "Metric_change: -3.35%\n",
            "Z-statistic for New_account: 1.542882614576384\n",
            "P-value for New_account: 0.1228592597741769\n",
            "Significant for new_account: False\n",
            "--------------------------------------------------\n"
          ]
        }
      ]
    },
    {
      "cell_type": "markdown",
      "source": [
        "**Висновок:** Результати не змінилися, використання циклу значно спрощує код і додає гнучкість."
      ],
      "metadata": {
        "id": "36EMbyeJYoWR"
      }
    },
    {
      "cell_type": "markdown",
      "source": [
        "## Розрахунок статистичної значущості чотирьох метрик в тоталі для тесту 2."
      ],
      "metadata": {
        "id": "C59ervJxSpd3"
      }
    },
    {
      "cell_type": "code",
      "source": [
        "# Виведення результатів тесту 2 в тоталі\n",
        "filtered_df = df[df[\"test\"] == 2]\n",
        "grouped_df2 = filtered_df.groupby([\"event_name\", \"test_group\"])[\"value\"].sum().unstack().reset_index()  # Скидаємо індекс, щоб event_name став колонкою\n",
        "# Перейменовуємо стовпці\n",
        "grouped_df2.columns = [\"event_name\", \"test_group1\", \"test_group2\"]\n",
        "print(grouped_df2)"
      ],
      "metadata": {
        "colab": {
          "base_uri": "https://localhost:8080/"
        },
        "id": "NPW7LoXqSr9y",
        "outputId": "8dad36bb-8e86-4555-9bcf-5dc8a9b8e425"
      },
      "execution_count": null,
      "outputs": [
        {
          "output_type": "stream",
          "name": "stdout",
          "text": [
            "             event_name  test_group1  test_group2\n",
            "0      add_payment_info         2344         2409\n",
            "1     add_shipping_info         3480         3510\n",
            "2           add_to_cart         2811         3061\n",
            "3        begin_checkout         4262         4313\n",
            "4                 click          337          413\n",
            "5           first_visit        34511        34171\n",
            "6           new_account         4165         4184\n",
            "7             page_view       220275       212320\n",
            "8                scroll        80713        81370\n",
            "9           select_item          905          946\n",
            "10     select_promotion         1477         1406\n",
            "11              session        50637        50244\n",
            "12        session_start        51219        50808\n",
            "13  session_with_orders         5102         5003\n",
            "14      user_engagement       198266       189931\n",
            "15            view_item        72717        68700\n",
            "16       view_item_list           24           29\n",
            "17       view_promotion        32367        31680\n",
            "18  view_search_results         4282         4198\n"
          ]
        }
      ]
    },
    {
      "cell_type": "code",
      "source": [
        "# Перевірка розподілу даних в групах\n",
        "total_group1 = grouped_df2[\"test_group1\"].sum()\n",
        "total_group2 = grouped_df2[\"test_group2\"].sum()\n",
        "total = total_group1 + total_group2\n",
        "proportion_group1 = total_group1 / total\n",
        "proportion_group2 = total_group2 / total\n",
        "print(f\"Пропорція групи 1: {proportion_group1:.2%}\")\n",
        "print(f\"Пропорція групи 2: {proportion_group2:.2%}\")\n",
        "if 0.48 <= proportion_group1 <= 0.52:\n",
        "    print(\"Розподіл в групах є рівномірним.\")\n",
        "else:\n",
        "    print(\"Розподіл в групах не рівномірний.\")"
      ],
      "metadata": {
        "colab": {
          "base_uri": "https://localhost:8080/"
        },
        "id": "Q1Aly96CTRL1",
        "outputId": "f0a68dff-6019-42de-f0c8-4e85844f3724"
      },
      "execution_count": null,
      "outputs": [
        {
          "output_type": "stream",
          "name": "stdout",
          "text": [
            "Пропорція групи 1: 50.70%\n",
            "Пропорція групи 2: 49.30%\n",
            "Розподіл в групах є рівномірним.\n"
          ]
        }
      ]
    },
    {
      "cell_type": "code",
      "source": [
        "# Список метрик, які потрібно обробити\n",
        "metrics = ['add_payment_info', 'add_shipping_info', 'begin_checkout', 'new_account']\n",
        "# Створення списків для обчислення сесій та кількості подій для кожної групи\n",
        "for metric in metrics:\n",
        "    # Витягуємо кількість сесій та метрики для обох груп\n",
        "    session_1 = grouped_df2.loc[grouped_df1[\"event_name\"] == \"session\", \"test_group1\"].iloc[0]  # number of session for group 1\n",
        "    session_2 = grouped_df2.loc[grouped_df1[\"event_name\"] == \"session\", \"test_group2\"].iloc[0]  # number of session for group 2\n",
        "    event_1 = grouped_df2.loc[grouped_df1[\"event_name\"] == metric, \"test_group1\"].iloc[0]  # number of event for group 1\n",
        "    event_2 = grouped_df2.loc[grouped_df1[\"event_name\"] == metric, \"test_group2\"].iloc[0]  # number of event for group 2\n",
        "    # Обчислюємо конверсії для кожної метрики\n",
        "    conversion_rate_1 = event_1 / session_1\n",
        "    conversion_rate_2 = event_2 / session_2\n",
        "    print(f\"Conversion Rate {metric.capitalize()} Group 1: {conversion_rate_1:.2%}\")\n",
        "    print(f\"Conversion Rate {metric.capitalize()} Group 2: {conversion_rate_2:.2%}\")\n",
        "    metric_change = conversion_rate_2 / conversion_rate_1 - 1\n",
        "    print(f\"Metric_change: {metric_change:.2%}\")\n",
        "    # Виконуємо Z-тест для кожної метрики\n",
        "    z_stat, p_value = sm.stats.proportions_ztest([event_1, event_2], [session_1, session_2])\n",
        "    print(f\"Z-statistic for {metric.capitalize()}: {z_stat}\")\n",
        "    print(f\"P-value for {metric.capitalize()}: {p_value}\")\n",
        "    # Інтерпретація результатів\n",
        "    significant = p_value < 0.05\n",
        "    print(f\"Significant for {metric}: {'True' if significant else 'False'}\")\n",
        "    print(\"-\" * 50)  # Роздільник для кращої читабельності"
      ],
      "metadata": {
        "colab": {
          "base_uri": "https://localhost:8080/"
        },
        "id": "cnQELttLTb3y",
        "outputId": "3ca5b545-8467-429a-b1df-b00af48bf339"
      },
      "execution_count": null,
      "outputs": [
        {
          "output_type": "stream",
          "name": "stdout",
          "text": [
            "Conversion Rate Add_payment_info Group 1: 4.63%\n",
            "Conversion Rate Add_payment_info Group 2: 4.79%\n",
            "Metric_change: 3.58%\n",
            "Z-statistic for Add_payment_info: -1.240993925082954\n",
            "P-value for Add_payment_info: 0.2146079930564252\n",
            "Significant for add_payment_info: False\n",
            "--------------------------------------------------\n",
            "Conversion Rate Add_shipping_info Group 1: 6.87%\n",
            "Conversion Rate Add_shipping_info Group 2: 6.99%\n",
            "Metric_change: 1.65%\n",
            "Z-statistic for Add_shipping_info: -0.7095568649433848\n",
            "P-value for Add_shipping_info: 0.4779789765684105\n",
            "Significant for add_shipping_info: False\n",
            "--------------------------------------------------\n",
            "Conversion Rate Begin_checkout Group 1: 8.42%\n",
            "Conversion Rate Begin_checkout Group 2: 8.58%\n",
            "Metric_change: 1.99%\n",
            "Z-statistic for Begin_checkout: -0.9528980407686692\n",
            "P-value for Begin_checkout: 0.3406417328714627\n",
            "Significant for begin_checkout: False\n",
            "--------------------------------------------------\n",
            "Conversion Rate New_account Group 1: 8.23%\n",
            "Conversion Rate New_account Group 2: 8.33%\n",
            "Metric_change: 1.24%\n",
            "Z-statistic for New_account: -0.5887934728848063\n",
            "P-value for New_account: 0.5559998249117384\n",
            "Significant for new_account: False\n",
            "--------------------------------------------------\n"
          ]
        }
      ]
    },
    {
      "cell_type": "markdown",
      "source": [
        "**Висновок:**\n",
        "Результати A/B тесту 2 показують, що жодна з протестованих метрик не має статистично значущої різниці між Group 1 і Group 2, хоча і спостерігається позитивний вплив.\n",
        "- Conversion Rate Add_payment_info: Конверсія зросла на 3.58%, але p-value = 0.2146, що означає відсутність статистичної значущості.\n",
        "- Conversion Rate Add_shipping_info: Збільшення конверсії на 1.65%, але p-value = 0.4780 вказує на те, що ефект несуттєвий.\n",
        "- Conversion Rate Begin_checkout: Конверсія зросла на 1.99%, однак p-value = 0.3406, що не свідчить про статистичну значущість.\n",
        "- Conversion Rate New_account: Незначне збільшення на 1.24%, але p-value = 0.5560, що підтверджує відсутність значущого впливу.\n",
        "\n",
        "Оскільки всі значення p-value перевищують поріг 0.05, ми не можемо відхилити нульову гіпотезу. Це означає, що зафіксовані відмінності між Group 1 і Group 2, можуть бути випадковими і не мати реального впливу. Для отримання більш точних висновків можна провести додаткове тестування, оскільки спостерігається, хоч і незначна, позитивна тенденція по всіх метриках.\n",
        "\n",
        "\n"
      ],
      "metadata": {
        "id": "LCBJfpvJP7gC"
      }
    },
    {
      "cell_type": "markdown",
      "source": [
        "## Розрахунок статистичної значущості чотирьох метрик в тоталі для тесту 3."
      ],
      "metadata": {
        "id": "FEaRb7evV_Ea"
      }
    },
    {
      "cell_type": "code",
      "source": [
        "# Виведення результатів тесту 3 в тоталі\n",
        "filtered_df = df[df[\"test\"] == 3]\n",
        "grouped_df3 = filtered_df.groupby([\"event_name\", \"test_group\"])[\"value\"].sum().unstack().reset_index()  # Скидаємо індекс, щоб event_name став колонкою\n",
        "# Перейменовуємо стовпці\n",
        "grouped_df3.columns = [\"event_name\", \"test_group1\", \"test_group2\"]\n",
        "print(grouped_df3)"
      ],
      "metadata": {
        "colab": {
          "base_uri": "https://localhost:8080/"
        },
        "id": "ltOIG0oeWB12",
        "outputId": "273c2783-fc0a-46b0-8f37-5b2d0740a0be"
      },
      "execution_count": null,
      "outputs": [
        {
          "output_type": "stream",
          "name": "stdout",
          "text": [
            "             event_name  test_group1  test_group2\n",
            "0      add_payment_info         3623         3697\n",
            "1     add_shipping_info         5298         5188\n",
            "2           add_to_cart        17674        17229\n",
            "3        begin_checkout         9532         9264\n",
            "4                 click          280          292\n",
            "5           first_visit        50438        50728\n",
            "6           new_account         5856         5822\n",
            "7             page_view       286351       284287\n",
            "8                scroll       110360       109564\n",
            "9           select_item         8735         8556\n",
            "10     select_promotion         2020         1996\n",
            "11              session        70047        70439\n",
            "12        session_start        71312        71686\n",
            "13  session_with_orders         6951         7151\n",
            "14      user_engagement       249921       248325\n",
            "15            view_item        93931        92841\n",
            "16       view_item_list            9            9\n",
            "17       view_promotion        41169        40959\n",
            "18  view_search_results         5764         5619\n"
          ]
        }
      ]
    },
    {
      "cell_type": "code",
      "source": [
        "# Перевірка розподілу даних в групах\n",
        "total_group1 = grouped_df3[\"test_group1\"].sum()\n",
        "total_group2 = grouped_df3[\"test_group2\"].sum()\n",
        "total = total_group1 + total_group2\n",
        "proportion_group1 = total_group1 / total\n",
        "proportion_group2 = total_group2 / total\n",
        "print(f\"Пропорція групи 1: {proportion_group1:.2%}\")\n",
        "print(f\"Пропорція групи 2: {proportion_group2:.2%}\")\n",
        "if 0.48 <= proportion_group1 <= 0.52:\n",
        "    print(\"Розподіл в групах є рівномірним.\")\n",
        "else:\n",
        "    print(\"Розподіл в групах не рівномірний.\")"
      ],
      "metadata": {
        "colab": {
          "base_uri": "https://localhost:8080/"
        },
        "id": "93ipHjkXWREk",
        "outputId": "ed9d5492-dc8a-4f39-8e07-72cad40051bd"
      },
      "execution_count": null,
      "outputs": [
        {
          "output_type": "stream",
          "name": "stdout",
          "text": [
            "Пропорція групи 1: 50.14%\n",
            "Пропорція групи 2: 49.86%\n",
            "Розподіл в групах є рівномірним.\n"
          ]
        }
      ]
    },
    {
      "cell_type": "code",
      "source": [
        "# Список метрик, які потрібно обробити\n",
        "metrics = ['add_payment_info', 'add_shipping_info', 'begin_checkout', 'new_account']\n",
        "# Створення списків для обчислення сесій та кількості подій для кожної групи\n",
        "for metric in metrics:\n",
        "    # Витягуємо кількість сесій та метрики для обох груп\n",
        "    session_1 = grouped_df3.loc[grouped_df1[\"event_name\"] == \"session\", \"test_group1\"].iloc[0]  # number of session for group 1\n",
        "    session_2 = grouped_df3.loc[grouped_df1[\"event_name\"] == \"session\", \"test_group2\"].iloc[0]  # number of session for group 2\n",
        "    event_1 = grouped_df3.loc[grouped_df1[\"event_name\"] == metric, \"test_group1\"].iloc[0]  # number of event for group 1\n",
        "    event_2 = grouped_df3.loc[grouped_df1[\"event_name\"] == metric, \"test_group2\"].iloc[0]  # number of event for group 2\n",
        "    # Обчислюємо конверсії для кожної метрики\n",
        "    conversion_rate_1 = event_1 / session_1\n",
        "    conversion_rate_2 = event_2 / session_2\n",
        "    print(f\"Conversion Rate {metric.capitalize()} Group 1: {conversion_rate_1:.2%}\")\n",
        "    print(f\"Conversion Rate {metric.capitalize()} Group 2: {conversion_rate_2:.2%}\")\n",
        "    metric_change = conversion_rate_2 / conversion_rate_1 - 1\n",
        "    print(f\"Metric_change: {metric_change:.2%}\")\n",
        "    # Виконуємо Z-тест для кожної метрики\n",
        "    z_stat, p_value = sm.stats.proportions_ztest([event_1, event_2], [session_1, session_2])\n",
        "    print(f\"Z-statistic for {metric.capitalize()}: {z_stat}\")\n",
        "    print(f\"P-value for {metric.capitalize()}: {p_value}\")\n",
        "    # Інтерпретація результатів\n",
        "    significant = p_value < 0.05\n",
        "    print(f\"Significant for {metric}: {'True' if significant else 'False'}\")\n",
        "    print(\"-\" * 50)  # Роздільник для кращої читабельності"
      ],
      "metadata": {
        "colab": {
          "base_uri": "https://localhost:8080/"
        },
        "id": "rn8mVvOyWBnQ",
        "outputId": "92a879e5-3b66-4c94-b26f-967b057076c9"
      },
      "execution_count": null,
      "outputs": [
        {
          "output_type": "stream",
          "name": "stdout",
          "text": [
            "Conversion Rate Add_payment_info Group 1: 5.17%\n",
            "Conversion Rate Add_payment_info Group 2: 5.25%\n",
            "Metric_change: 1.47%\n",
            "Z-statistic for Add_payment_info: -0.6431724006448517\n",
            "P-value for Add_payment_info: 0.5201122396904715\n",
            "Significant for add_payment_info: False\n",
            "--------------------------------------------------\n",
            "Conversion Rate Add_shipping_info Group 1: 7.56%\n",
            "Conversion Rate Add_shipping_info Group 2: 7.37%\n",
            "Metric_change: -2.62%\n",
            "Z-statistic for Add_shipping_info: 1.4137271445347053\n",
            "P-value for Add_shipping_info: 0.15744203211836594\n",
            "Significant for add_shipping_info: False\n",
            "--------------------------------------------------\n",
            "Conversion Rate Begin_checkout Group 1: 13.61%\n",
            "Conversion Rate Begin_checkout Group 2: 13.15%\n",
            "Metric_change: -3.35%\n",
            "Z-statistic for Begin_checkout: 2.5113885009036334\n",
            "P-value for Begin_checkout: 0.012025726872364946\n",
            "Significant for begin_checkout: True\n",
            "--------------------------------------------------\n",
            "Conversion Rate New_account Group 1: 8.36%\n",
            "Conversion Rate New_account Group 2: 8.27%\n",
            "Metric_change: -1.13%\n",
            "Z-statistic for New_account: 0.643488525509626\n",
            "P-value for New_account: 0.5199071578995274\n",
            "Significant for new_account: False\n",
            "--------------------------------------------------\n"
          ]
        }
      ]
    },
    {
      "cell_type": "markdown",
      "source": [
        "**Висновок:**\n",
        "Результати A/B тесту 3 показують, що лише одна з протестованих метрик має негативний результат та статистично значущу різницю між Group 1 і Group 2.\n",
        "- Conversion Rate Add_payment_info: Конверсія зросла на 1.47%, але p-value = 0.5201, що означає відсутність статистичної значущості.\n",
        "- Conversion Rate Add_shipping_info: Конверсія знизилася на 2.62%, але p-value = 0.1574, що не досягає рівня статистичної значущості.\n",
        "- Conversion Rate Begin_checkout: Конверсія знизилася на 3.35%, при цьому p-value = 0.0120, що є статистично значущим (p < 0.05). Це вказує на те, що зміни застосовані до групи 2 мали негативний вплив.\n",
        "- Conversion Rate New_account: Незначне зниження на 1.13%, але p-value = 0.5199, що свідчить про відсутність статистичної значущості.\n",
        "\n",
        "Оскільки для Conversion Rate Begin_checkout значення p-value < 0.05, ми відхиляємо нульову гіпотезу, що означає наявність значущого просідання для цієї метрики. Для всіх інших метрик статистично значущих змін не зафіксовано, і спостережувані відмінності можуть бути випадковими.\n"
      ],
      "metadata": {
        "id": "NDRIgLz8Qdf0"
      }
    },
    {
      "cell_type": "markdown",
      "source": [
        "## Розрахунок статистичної значущості чотирьох метрик в тоталі для тесту 4."
      ],
      "metadata": {
        "id": "WKMIgKSDZh7B"
      }
    },
    {
      "cell_type": "code",
      "source": [
        "# Виведення результатів тесту 4 в тоталі\n",
        "filtered_df = df[df[\"test\"] == 4]\n",
        "grouped_df4 = filtered_df.groupby([\"event_name\", \"test_group\"])[\"value\"].sum().unstack().reset_index()  # Скидаємо індекс, щоб event_name став колонкою\n",
        "# Перейменовуємо стовпці\n",
        "grouped_df4.columns = [\"event_name\", \"test_group1\", \"test_group2\"]\n",
        "print(grouped_df4)"
      ],
      "metadata": {
        "colab": {
          "base_uri": "https://localhost:8080/"
        },
        "id": "RObYdcNZZgbV",
        "outputId": "c2a069c8-93ab-4051-b88e-1ba512bcd676"
      },
      "execution_count": null,
      "outputs": [
        {
          "output_type": "stream",
          "name": "stdout",
          "text": [
            "             event_name  test_group1  test_group2\n",
            "0      add_payment_info         3731         3601\n",
            "1     add_shipping_info         5128         4956\n",
            "2           add_to_cart        21536        21554\n",
            "3        begin_checkout        12555        12267\n",
            "4                 click          285          299\n",
            "5           first_visit        80900        80626\n",
            "6           new_account         8984         8687\n",
            "7             page_view       379480       378307\n",
            "8                scroll       136037       134156\n",
            "9           select_item        12214        11988\n",
            "10     select_promotion         2773         2708\n",
            "11              session       105079       105141\n",
            "12        session_start       107128       106978\n",
            "13  session_with_orders        10596        10481\n",
            "14      user_engagement       273946       273633\n",
            "15            view_item        98619        98928\n",
            "16       view_item_list            5            6\n",
            "17       view_promotion        52672        51985\n",
            "18  view_search_results         7582         7203\n"
          ]
        }
      ]
    },
    {
      "cell_type": "code",
      "source": [
        "# Перевірка розподілу даних в групах\n",
        "total_group1 = grouped_df4[\"test_group1\"].sum()\n",
        "total_group2 = grouped_df4[\"test_group2\"].sum()\n",
        "total = total_group1 + total_group2\n",
        "proportion_group1 = total_group1 / total\n",
        "proportion_group2 = total_group2 / total\n",
        "print(f\"Пропорція групи 1: {proportion_group1:.2%}\")\n",
        "print(f\"Пропорція групи 2: {proportion_group2:.2%}\")\n",
        "if 0.48 <= proportion_group1 <= 0.52:\n",
        "    print(\"Розподіл в групах є рівномірним.\")\n",
        "else:\n",
        "    print(\"Розподіл в групах не рівномірний.\")"
      ],
      "metadata": {
        "colab": {
          "base_uri": "https://localhost:8080/"
        },
        "id": "fhG3NyfkZwgO",
        "outputId": "6142d6e5-63b5-49c3-9afc-360584c85e78"
      },
      "execution_count": null,
      "outputs": [
        {
          "output_type": "stream",
          "name": "stdout",
          "text": [
            "Пропорція групи 1: 50.11%\n",
            "Пропорція групи 2: 49.89%\n",
            "Розподіл в групах є рівномірним.\n"
          ]
        }
      ]
    },
    {
      "cell_type": "code",
      "source": [
        "# Список метрик, які потрібно обробити\n",
        "metrics = ['add_payment_info', 'add_shipping_info', 'begin_checkout', 'new_account']\n",
        "# Створення списків для обчислення сесій та кількості подій для кожної групи\n",
        "for metric in metrics:\n",
        "    # Витягуємо кількість сесій та метрики для обох груп\n",
        "    session_1 = grouped_df4.loc[grouped_df1[\"event_name\"] == \"session\", \"test_group1\"].iloc[0]  # number of session for group 1\n",
        "    session_2 = grouped_df4.loc[grouped_df1[\"event_name\"] == \"session\", \"test_group2\"].iloc[0]  # number of session for group 2\n",
        "    event_1 = grouped_df4.loc[grouped_df1[\"event_name\"] == metric, \"test_group1\"].iloc[0]  # number of event for group 1\n",
        "    event_2 = grouped_df4.loc[grouped_df1[\"event_name\"] == metric, \"test_group2\"].iloc[0]  # number of event for group 2\n",
        "    # Обчислюємо конверсії для кожної метрики\n",
        "    conversion_rate_1 = event_1 / session_1\n",
        "    conversion_rate_2 = event_2 / session_2\n",
        "    print(f\"Conversion Rate {metric.capitalize()} Group 1: {conversion_rate_1:.2%}\")\n",
        "    print(f\"Conversion Rate {metric.capitalize()} Group 2: {conversion_rate_2:.2%}\")\n",
        "    metric_change = conversion_rate_2 / conversion_rate_1 - 1\n",
        "    print(f\"Metric_change: {metric_change:.2%}\")\n",
        "    # Виконуємо Z-тест для кожної метрики\n",
        "    z_stat, p_value = sm.stats.proportions_ztest([event_1, event_2], [session_1, session_2])\n",
        "    print(f\"Z-statistic for {metric.capitalize()}: {z_stat}\")\n",
        "    print(f\"P-value for {metric.capitalize()}: {p_value}\")\n",
        "    # Інтерпретація результатів\n",
        "    significant = p_value < 0.05\n",
        "    print(f\"Significant for {metric}: {'True' if significant else 'False'}\")\n",
        "    print(\"-\" * 50)  # Роздільник для кращої читабельності"
      ],
      "metadata": {
        "colab": {
          "base_uri": "https://localhost:8080/"
        },
        "id": "E8CU50jjZ1ac",
        "outputId": "9e3f81c1-cf96-4a83-f127-3fd8b20d1c5a"
      },
      "execution_count": null,
      "outputs": [
        {
          "output_type": "stream",
          "name": "stdout",
          "text": [
            "Conversion Rate Add_payment_info Group 1: 3.55%\n",
            "Conversion Rate Add_payment_info Group 2: 3.42%\n",
            "Metric_change: -3.54%\n",
            "Z-statistic for Add_payment_info: 1.5711064424503227\n",
            "P-value for Add_payment_info: 0.11615792640849863\n",
            "Significant for add_payment_info: False\n",
            "--------------------------------------------------\n",
            "Conversion Rate Add_shipping_info Group 1: 4.88%\n",
            "Conversion Rate Add_shipping_info Group 2: 4.71%\n",
            "Metric_change: -3.41%\n",
            "Z-statistic for Add_shipping_info: 1.785795361681634\n",
            "P-value for Add_shipping_info: 0.07413239802026593\n",
            "Significant for add_shipping_info: False\n",
            "--------------------------------------------------\n",
            "Conversion Rate Begin_checkout Group 1: 11.95%\n",
            "Conversion Rate Begin_checkout Group 2: 11.67%\n",
            "Metric_change: -2.35%\n",
            "Z-statistic for Begin_checkout: 1.9959978123649886\n",
            "P-value for Begin_checkout: 0.04593416091816525\n",
            "Significant for begin_checkout: True\n",
            "--------------------------------------------------\n",
            "Conversion Rate New_account Group 1: 8.55%\n",
            "Conversion Rate New_account Group 2: 8.26%\n",
            "Metric_change: -3.36%\n",
            "Z-statistic for New_account: 2.3754566027210693\n",
            "P-value for New_account: 0.01752725332952912\n",
            "Significant for new_account: True\n",
            "--------------------------------------------------\n"
          ]
        }
      ]
    },
    {
      "cell_type": "markdown",
      "source": [
        "**Висновок:**\n",
        "Результати A/B тесту 4 показують, просідання всіх чотирьох мертик, дві з яких мають статистично значущі відмінності між Group 1 і Group 2.\n",
        "- Conversion Rate Add_payment_info: Конверсія знизилася на 3.54%, але p-value = 0.1162, що означає відсутність статистичної значущості.\n",
        "- Conversion Rate Add_shipping_info: Конверсія зменшилася на 3.41, p-value = 0.0741, результати не значущі.\n",
        "- Conversion Rate Begin_checkout: Конверсія знизилася на 2.35%, при цьому p-value = 0.0459, що є статистично значущим (p < 0.05). Це свідчить про те, що різниця між групами не є випадковою.\n",
        "- Conversion Rate New_account: Конверсія знизилася на 3.36%, при цьому p-value = 0.0175, що є статистично значущим (p < 0.05).\n",
        "\n",
        "Оскільки p-value < 0.05 для Conversion Rate Begin_checkout і Conversion Rate New_account, ми відхиляємо нульову гіпотезу для цих метрик. Це означає, що відмінності між Group 1 і Group 2 для цих показників є статистично значущими.\n",
        "Для Conversion Rate Add_payment_info і Conversion Rate Add_shipping_info значення p-value > 0.05, тому ми не можемо відхилити нульову гіпотезу, і спостережувані зміни, можуть бути випадковими. Оскільки зміни, застосовані до групи 2 мали негативний вплив по всіх метриках, для двох з яких результати  були статистично значущими, тест не можемо вважати успішним.\n",
        "\n"
      ],
      "metadata": {
        "id": "h4lpkHcRQ64U"
      }
    },
    {
      "cell_type": "markdown",
      "source": [
        "## Розрахунок статистичної значущості чотирьох метрик для тесту 1 в розрізі каналів."
      ],
      "metadata": {
        "id": "UHzVqHPKU4Bd"
      }
    },
    {
      "cell_type": "code",
      "source": [
        "# Виведення результатів тесту 1 для каналу Direct\n",
        "filtered_df = df[(df[\"test\"]==1) & (df[\"channel\"] == \"Direct\")]\n",
        "grouped_df1_direct = filtered_df.groupby([\"event_name\", \"test_group\"])[\"value\"].sum().unstack().reset_index()\n",
        "grouped_df1_direct.columns = [\"event_name\", \"test_group1\", \"test_group2\"]\n",
        "print(grouped_df1_direct)"
      ],
      "metadata": {
        "colab": {
          "base_uri": "https://localhost:8080/"
        },
        "id": "SkjjivOK9oBZ",
        "outputId": "bcc1587e-c89e-40a7-d4e2-3edc1695ad92"
      },
      "execution_count": null,
      "outputs": [
        {
          "output_type": "stream",
          "name": "stdout",
          "text": [
            "             event_name  test_group1  test_group2\n",
            "0      add_payment_info          392          516\n",
            "1     add_shipping_info          664          716\n",
            "2           add_to_cart          269          279\n",
            "3        begin_checkout          823          915\n",
            "4                 click           79           73\n",
            "5           first_visit         7432         7283\n",
            "6           new_account          913          850\n",
            "7             page_view        44951        45157\n",
            "8                scroll        17041        17141\n",
            "9           select_item          104          126\n",
            "10     select_promotion          316          307\n",
            "11              session        10691        10361\n",
            "12        session_start        10875        10532\n",
            "13  session_with_orders         1084         1052\n",
            "14      user_engagement        40283        40604\n",
            "15            view_item        14644        14476\n",
            "16       view_item_list            6            4\n",
            "17       view_promotion         6985         6667\n",
            "18  view_search_results          868          876\n"
          ]
        }
      ]
    },
    {
      "cell_type": "code",
      "source": [
        "# Перевірка розподілу даних в групах\n",
        "total_group1 = grouped_df1_direct[\"test_group1\"].sum()\n",
        "total_group2 = grouped_df1_direct[\"test_group2\"].sum()\n",
        "total = total_group1 + total_group2\n",
        "proportion_group1 = total_group1 / total\n",
        "proportion_group2 = total_group2 / total\n",
        "print(f\"Пропорція групи 1: {proportion_group1:.2%}\")\n",
        "print(f\"Пропорція групи 2: {proportion_group2:.2%}\")\n",
        "if 0.48 <= proportion_group1 <= 0.52:\n",
        "    print(\"Розподіл в групах є рівномірним.\")\n",
        "else:\n",
        "    print(\"Розподіл в групах не рівномірний.\")"
      ],
      "metadata": {
        "colab": {
          "base_uri": "https://localhost:8080/"
        },
        "id": "1omdFmmV-DCX",
        "outputId": "7647934a-c3ec-47e9-8cf6-a16c623ad26e"
      },
      "execution_count": null,
      "outputs": [
        {
          "output_type": "stream",
          "name": "stdout",
          "text": [
            "Пропорція групи 1: 50.08%\n",
            "Пропорція групи 2: 49.92%\n",
            "Розподіл в групах є рівномірним.\n"
          ]
        }
      ]
    },
    {
      "cell_type": "code",
      "source": [
        "# Список метрик, які потрібно обробити\n",
        "metrics = ['add_payment_info', 'add_shipping_info', 'begin_checkout', 'new_account']\n",
        "# Створення списків для обчислення сесій та кількості подій для кожної групи\n",
        "for metric in metrics:\n",
        "    # Витягуємо кількість сесій та метрики для обох груп\n",
        "    session_1 = grouped_df1_direct.loc[grouped_df1_direct[\"event_name\"] == \"session\", \"test_group1\"].iloc[0]  # number of session for group 1\n",
        "    session_2 = grouped_df1_direct.loc[grouped_df1_direct[\"event_name\"] == \"session\", \"test_group2\"].iloc[0]  # number of session for group 2\n",
        "    event_1 = grouped_df1_direct.loc[grouped_df1_direct[\"event_name\"] == metric, \"test_group1\"].iloc[0]  # number of event for group 1\n",
        "    event_2 = grouped_df1_direct.loc[grouped_df1_direct[\"event_name\"] == metric, \"test_group2\"].iloc[0]  # number of event for group 2\n",
        "    # Обчислюємо конверсії для кожної метрики\n",
        "    conversion_rate_1 = event_1 / session_1\n",
        "    conversion_rate_2 = event_2 / session_2\n",
        "    print(f\"Conversion Rate {metric.capitalize()} Group 1: {conversion_rate_1:.2%}\")\n",
        "    print(f\"Conversion Rate {metric.capitalize()} Group 2: {conversion_rate_2:.2%}\")\n",
        "    metric_change = conversion_rate_2 / conversion_rate_1 - 1\n",
        "    print(f\"Metric_change: {metric_change:.2%}\")\n",
        "    # Виконуємо Z-тест для кожної метрики\n",
        "    z_stat, p_value = sm.stats.proportions_ztest([event_1, event_2], [session_1, session_2])\n",
        "    print(f\"Z-statistic for {metric.capitalize()}: {z_stat}\")\n",
        "    print(f\"P-value for {metric.capitalize()}: {p_value}\")\n",
        "    print(f\"P-value for {metric.capitalize()}: {p_value}\")\n",
        "    # Інтерпретація результатів\n",
        "    significant = p_value < 0.05\n",
        "    print(f\"Significant for {metric.capitalize()}: {'True' if significant else 'False'}\")\n",
        "    print(\"-\" * 50)  # Роздільник для кращої читабельності"
      ],
      "metadata": {
        "colab": {
          "base_uri": "https://localhost:8080/"
        },
        "id": "DE1Wwmb1RLIi",
        "outputId": "d39d8609-2097-45e1-8f96-e43b8be63382"
      },
      "execution_count": null,
      "outputs": [
        {
          "output_type": "stream",
          "name": "stdout",
          "text": [
            "Conversion Rate Add_payment_info Group 1: 3.67%\n",
            "Conversion Rate Add_payment_info Group 2: 4.98%\n",
            "Metric_change: 35.83%\n",
            "Z-statistic for Add_payment_info: -4.690261152959848\n",
            "P-value for Add_payment_info: 2.7285656989392044e-06\n",
            "P-value for Add_payment_info: 2.7285656989392044e-06\n",
            "Significant for Add_payment_info: True\n",
            "--------------------------------------------------\n",
            "Conversion Rate Add_shipping_info Group 1: 6.21%\n",
            "Conversion Rate Add_shipping_info Group 2: 6.91%\n",
            "Metric_change: 11.27%\n",
            "Z-statistic for Add_shipping_info: -2.050707497700552\n",
            "P-value for Add_shipping_info: 0.040295440378197364\n",
            "P-value for Add_shipping_info: 0.040295440378197364\n",
            "Significant for Add_shipping_info: True\n",
            "--------------------------------------------------\n",
            "Conversion Rate Begin_checkout Group 1: 7.70%\n",
            "Conversion Rate Begin_checkout Group 2: 8.83%\n",
            "Metric_change: 14.72%\n",
            "Z-statistic for Begin_checkout: -2.986589005359636\n",
            "P-value for Begin_checkout: 0.0028210870432094437\n",
            "P-value for Begin_checkout: 0.0028210870432094437\n",
            "Significant for Begin_checkout: True\n",
            "--------------------------------------------------\n",
            "Conversion Rate New_account Group 1: 8.54%\n",
            "Conversion Rate New_account Group 2: 8.20%\n",
            "Metric_change: -3.94%\n",
            "Z-statistic for New_account: 0.8799990554134905\n",
            "P-value for New_account: 0.37885982126254425\n",
            "P-value for New_account: 0.37885982126254425\n",
            "Significant for New_account: False\n",
            "--------------------------------------------------\n"
          ]
        }
      ]
    },
    {
      "cell_type": "markdown",
      "source": [
        "**Висновок:**\n",
        "Результати A/B тесту 1 для каналу Direct показують, що три з чотирьох метрик мають позитивні статистично значущі відмінності між Group 1 і Group 2.\n",
        "- Conversion Rate Add_payment_info: Конверсія зросла на 35.83%, при цьому p-value = 2.73e-06, що є статистично значущим (p < 0.05). Це вказує на значний позитивний вплив змін у Group 2.\n",
        "- Conversion Rate Add_shipping_info: Конверсія зросла на 11.27%, при цьому p-value = 0.0403, що є статистично значущим (p < 0.05). Це свідчить про те, що зміни в Group 2 мали позитивний вплив на цей показник.\n",
        "- Conversion Rate Begin_checkout: Конверсія збільшилася на 14.72%, при цьому p-value = 0.0028, що є статистично значущим (p < 0.05). Це вказує на суттєву різницю між групами.\n",
        "- Conversion Rate New_account: Конверсія зменшилася на 3.94%, але p-value = 0.3789, що означає відсутність статистичної значущості (p > 0.05).\n",
        "\n",
        "Оскільки p-value < 0.05 для Conversion Rate Add_payment_info, Conversion Rate Add_shipping_info та Conversion Rate Begin_checkout, ми відхиляємо нульову гіпотезу для цих метрик. Це означає, що Group 2 показала статистично значуще покращення в порівнянні з Group 1 для цих показників.\n",
        "Для Conversion Rate New_account значення p-value > 0.05, тому ми не можемо відхилити нульову гіпотезу, і спостережуване просідання цієї метрики, ймовірно, є випадковими.\n"
      ],
      "metadata": {
        "id": "2_frMej-D0QW"
      }
    },
    {
      "cell_type": "code",
      "source": [
        "# Виведення результатів тесту 1 для каналу Organic Search\n",
        "filtered_df = df[(df[\"test\"]==1) & (df[\"channel\"] == \"Organic Search\")]\n",
        "grouped_df1_os = filtered_df.groupby([\"event_name\", \"test_group\"])[\"value\"].sum().unstack().reset_index()\n",
        "grouped_df1_os.columns = [\"event_name\", \"test_group1\", \"test_group2\"]\n",
        "print(grouped_df1_os)"
      ],
      "metadata": {
        "colab": {
          "base_uri": "https://localhost:8080/"
        },
        "id": "Mfigwz1_XQJH",
        "outputId": "53660293-aeac-48d1-88c6-6f2577e6142a"
      },
      "execution_count": null,
      "outputs": [
        {
          "output_type": "stream",
          "name": "stdout",
          "text": [
            "             event_name  test_group1  test_group2\n",
            "0      add_payment_info          640          514\n",
            "1     add_shipping_info         1021          922\n",
            "2           add_to_cart          494          392\n",
            "3        begin_checkout         1249         1144\n",
            "4                 click           90           87\n",
            "5           first_visit        12438        12305\n",
            "6           new_account         1307         1301\n",
            "7             page_view        69237        69391\n",
            "8                scroll        25561        23822\n",
            "9           select_item          207          152\n",
            "10     select_promotion          442          461\n",
            "11              session        15675        15631\n",
            "12        session_start        15963        15903\n",
            "13  session_with_orders         1502         1534\n",
            "14      user_engagement        61525        62108\n",
            "15            view_item        22584        22786\n",
            "16       view_item_list            7            6\n",
            "17       view_promotion        10274        10287\n",
            "18  view_search_results         1349         1413\n"
          ]
        }
      ]
    },
    {
      "cell_type": "code",
      "source": [
        "# Перевірка розподілу даних в групах\n",
        "total_group1 = grouped_df1_os[\"test_group1\"].sum()\n",
        "total_group2 = grouped_df1_os[\"test_group2\"].sum()\n",
        "total = total_group1 + total_group2\n",
        "proportion_group1 = total_group1 / total\n",
        "proportion_group2 = total_group2 / total\n",
        "print(f\"Пропорція групи 1: {proportion_group1:.2%}\")\n",
        "print(f\"Пропорція групи 2: {proportion_group2:.2%}\")\n",
        "if 0.48 <= proportion_group1 <= 0.52:\n",
        "    print(\"Розподіл в групах є рівномірним.\")\n",
        "else:\n",
        "    print(\"Розподіл в групах не рівномірний.\")"
      ],
      "metadata": {
        "colab": {
          "base_uri": "https://localhost:8080/"
        },
        "id": "44c5_0pwaLD7",
        "outputId": "2ac3355f-f76e-4f30-ae9c-a400f2d3f190"
      },
      "execution_count": null,
      "outputs": [
        {
          "output_type": "stream",
          "name": "stdout",
          "text": [
            "Пропорція групи 1: 50.15%\n",
            "Пропорція групи 2: 49.85%\n",
            "Розподіл в групах є рівномірним.\n"
          ]
        }
      ]
    },
    {
      "cell_type": "code",
      "source": [
        "# Список метрик, які потрібно обробити\n",
        "metrics = ['add_payment_info', 'add_shipping_info', 'begin_checkout', 'new_account']\n",
        "# Створення списків для обчислення сесій та кількості подій для кожної групи\n",
        "for metric in metrics:\n",
        "    # Витягуємо кількість сесій та метрики для обох груп\n",
        "    session_1 = grouped_df1_os.loc[grouped_df1_os[\"event_name\"] == \"session\", \"test_group1\"].iloc[0]  # number of session for group 1\n",
        "    session_2 = grouped_df1_os.loc[grouped_df1_os[\"event_name\"] == \"session\", \"test_group2\"].iloc[0]  # number of session for group 2\n",
        "    event_1 = grouped_df1_os.loc[grouped_df1_os[\"event_name\"] == metric, \"test_group1\"].iloc[0]  # number of event for group 1\n",
        "    event_2 = grouped_df1_os.loc[grouped_df1_os[\"event_name\"] == metric, \"test_group2\"].iloc[0]  # number of event for group 2\n",
        "    # Обчислюємо конверсії для кожної метрики\n",
        "    conversion_rate_1 = event_1 / session_1\n",
        "    conversion_rate_2 = event_2 / session_2\n",
        "    print(f\"Conversion Rate {metric.capitalize()} Group 1: {conversion_rate_1:.2%}\")\n",
        "    print(f\"Conversion Rate {metric.capitalize()} Group 2: {conversion_rate_2:.2%}\")\n",
        "    metric_change = conversion_rate_2 / conversion_rate_1 - 1\n",
        "    print(f\"Metric_change: {metric_change:.2%}\")\n",
        "    # Виконуємо Z-тест для кожної метрики\n",
        "    z_stat, p_value = sm.stats.proportions_ztest([event_1, event_2], [session_1, session_2])\n",
        "    print(f\"Z-statistic for {metric.capitalize()}: {z_stat}\")\n",
        "    print(f\"P-value for {metric.capitalize()}: {p_value}\")\n",
        "    print(f\"P-value for {metric.capitalize()}: {p_value}\")\n",
        "    # Інтерпретація результатів\n",
        "    significant = p_value < 0.05\n",
        "    print(f\"Significant for {metric.capitalize()}: {'True' if significant else 'False'}\")\n",
        "    print(\"-\" * 50)  # Роздільник для кращої читабельності"
      ],
      "metadata": {
        "colab": {
          "base_uri": "https://localhost:8080/"
        },
        "id": "L5vZB1v3aTlM",
        "outputId": "02779055-1932-446e-cc59-25b15f4b32d6"
      },
      "execution_count": null,
      "outputs": [
        {
          "output_type": "stream",
          "name": "stdout",
          "text": [
            "Conversion Rate Add_payment_info Group 1: 4.08%\n",
            "Conversion Rate Add_payment_info Group 2: 3.29%\n",
            "Metric_change: -19.46%\n",
            "Z-statistic for Add_payment_info: 3.730758025866682\n",
            "P-value for Add_payment_info: 0.0001909045129292049\n",
            "P-value for Add_payment_info: 0.0001909045129292049\n",
            "Significant for Add_payment_info: True\n",
            "--------------------------------------------------\n",
            "Conversion Rate Add_shipping_info Group 1: 6.51%\n",
            "Conversion Rate Add_shipping_info Group 2: 5.90%\n",
            "Metric_change: -9.44%\n",
            "Z-statistic for Add_shipping_info: 2.2550944824879924\n",
            "P-value for Add_shipping_info: 0.024127398901353108\n",
            "P-value for Add_shipping_info: 0.024127398901353108\n",
            "Significant for Add_shipping_info: True\n",
            "--------------------------------------------------\n",
            "Conversion Rate Begin_checkout Group 1: 7.97%\n",
            "Conversion Rate Begin_checkout Group 2: 7.32%\n",
            "Metric_change: -8.15%\n",
            "Z-statistic for Begin_checkout: 2.1619556233036095\n",
            "P-value for Begin_checkout: 0.030621596905618862\n",
            "P-value for Begin_checkout: 0.030621596905618862\n",
            "Significant for Begin_checkout: True\n",
            "--------------------------------------------------\n",
            "Conversion Rate New_account Group 1: 8.34%\n",
            "Conversion Rate New_account Group 2: 8.32%\n",
            "Metric_change: -0.18%\n",
            "Z-statistic for New_account: 0.04774515837519806\n",
            "P-value for New_account: 0.9619193439402388\n",
            "P-value for New_account: 0.9619193439402388\n",
            "Significant for New_account: False\n",
            "--------------------------------------------------\n"
          ]
        }
      ]
    },
    {
      "cell_type": "markdown",
      "source": [
        "**Висновок:**\n",
        "Результати A/B тесту 1 для каналу Organic Search показують, що три з чотирьох метрик мають статистично значущі негативні відмінності між групами.\n",
        "- Conversion Rate Add_payment_info: Конверсія знизилася на 19.46%, при цьому p-value = 0.00019, що є статистично значущим (p < 0.05). Це свідчить про значне зниження показника в Group 2.\n",
        "-\tConversion Rate Add_shipping_info: Конверсія зменшилася на 9.44%, при цьому p-value = 0.0241, що є статистично значущим (p < 0.05). Це означає, що зміни в Group 2 мали негативний вплив.\n",
        "- Conversion Rate Begin_checkout: Конверсія знизилася на 8.15%, при цьому p-value = 0.0306, що є статистично значущим (p < 0.05). Це також вказує на суттєву різницю між групами.\n",
        "- Conversion Rate New_account: Незначне зменшення на 0.18%, але p-value = 0.9619, що означає відсутність статистичної значущості (p > 0.05).\n",
        "\n",
        "Оскільки p-value < 0.05 для Conversion Rate Add_payment_info, Conversion Rate Add_shipping_info та Conversion Rate Begin_checkout, ми відхиляємо нульову гіпотезу для цих метрик. Це означає, що Group 2 показала статистично значуще зниження цих показників у порівнянні з Group 1.\n",
        "Для Conversion Rate New_account значення p-value > 0.05, тому ми не можемо відхилити нульову гіпотезу, і спостережувані зміни можуть бути випадковими.\n",
        "Загалом результати свідчать про негативний вплив змін у Group 2, що може вимагати подальшого аналізу та перегляду змін.\n",
        "\n"
      ],
      "metadata": {
        "id": "11AEhsD9ENJ9"
      }
    },
    {
      "cell_type": "code",
      "source": [
        "# Виведення результатів тесту 1 для каналу Social Search\n",
        "filtered_df = df[(df[\"test\"]==1) & (df[\"channel\"] == \"Social Search\")]\n",
        "grouped_df1_ss = filtered_df.groupby([\"event_name\", \"test_group\"])[\"value\"].sum().unstack().reset_index()\n",
        "grouped_df1_ss.columns = [\"event_name\", \"test_group1\", \"test_group2\"]\n",
        "print(grouped_df1_ss)"
      ],
      "metadata": {
        "colab": {
          "base_uri": "https://localhost:8080/"
        },
        "id": "TpQIOoWjapV2",
        "outputId": "2238851a-8bd7-4fb6-874f-cc09d85634f0"
      },
      "execution_count": null,
      "outputs": [
        {
          "output_type": "stream",
          "name": "stdout",
          "text": [
            "             event_name  test_group1  test_group2\n",
            "0      add_payment_info          237          264\n",
            "1     add_shipping_info          300          353\n",
            "2           add_to_cart          120          198\n",
            "3        begin_checkout          392          435\n",
            "4                 click           51           48\n",
            "5           first_visit         1492         1578\n",
            "6           new_account          312          335\n",
            "7             page_view        15580        17351\n",
            "8                scroll         6638         6914\n",
            "9           select_item           61           38\n",
            "10     select_promotion          101          109\n",
            "11              session         3883         3963\n",
            "12        session_start         3861         3924\n",
            "13  session_with_orders          375          416\n",
            "14      user_engagement        14306        16140\n",
            "15            view_item         5168         6023\n",
            "16       view_item_list            2            9\n",
            "17       view_promotion         2329         2437\n",
            "18  view_search_results          316          315\n"
          ]
        }
      ]
    },
    {
      "cell_type": "code",
      "source": [
        "# Перевірка розподілу даних в групах\n",
        "total_group1 = grouped_df1_ss[\"test_group1\"].sum()\n",
        "total_group2 = grouped_df1_ss[\"test_group2\"].sum()\n",
        "total = total_group1 + total_group2\n",
        "proportion_group1 = total_group1 / total\n",
        "proportion_group2 = total_group2 / total\n",
        "print(f\"Пропорція групи 1: {proportion_group1:.2%}\")\n",
        "print(f\"Пропорція групи 2: {proportion_group2:.2%}\")\n",
        "if 0.48 <= proportion_group1 <= 0.52:\n",
        "    print(\"Розподіл в групах є рівномірним.\")\n",
        "else:\n",
        "    print(\"Розподіл в групах не рівномірний.\")"
      ],
      "metadata": {
        "colab": {
          "base_uri": "https://localhost:8080/"
        },
        "id": "Bc1WYPEOfJyo",
        "outputId": "503b68d3-e689-41e6-be82-94b3dc87f821"
      },
      "execution_count": null,
      "outputs": [
        {
          "output_type": "stream",
          "name": "stdout",
          "text": [
            "Пропорція групи 1: 47.71%\n",
            "Пропорція групи 2: 52.29%\n",
            "Розподіл в групах не рівномірний.\n"
          ]
        }
      ]
    },
    {
      "cell_type": "markdown",
      "source": [
        "Значення пропорцій близьке до очікуваних діапазонів, тому можемо вважати розподіл рівномірним."
      ],
      "metadata": {
        "id": "eAN8KFDZ2hZ9"
      }
    },
    {
      "cell_type": "code",
      "source": [
        "# Список метрик, які потрібно обробити\n",
        "metrics = ['add_payment_info', 'add_shipping_info', 'begin_checkout', 'new_account']\n",
        "# Створення списків для обчислення сесій та кількості подій для кожної групи\n",
        "for metric in metrics:\n",
        "    # Витягуємо кількість сесій та метрики для обох груп\n",
        "    session_1 = grouped_df1_ss.loc[grouped_df1_ss[\"event_name\"] == \"session\", \"test_group1\"].iloc[0]  # number of session for group 1\n",
        "    session_2 = grouped_df1_ss.loc[grouped_df1_ss[\"event_name\"] == \"session\", \"test_group2\"].iloc[0]  # number of session for group 2\n",
        "    event_1 = grouped_df1_ss.loc[grouped_df1_ss[\"event_name\"] == metric, \"test_group1\"].iloc[0]  # number of event for group 1\n",
        "    event_2 = grouped_df1_ss.loc[grouped_df1_ss[\"event_name\"] == metric, \"test_group2\"].iloc[0]  # number of event for group 2\n",
        "\n",
        "    # Обчислюємо конверсії для кожної метрики\n",
        "    conversion_rate_1 = event_1 / session_1\n",
        "    conversion_rate_2 = event_2 / session_2\n",
        "    print(f\"Conversion Rate {metric.capitalize()} Group 1: {conversion_rate_1:.2%}\")\n",
        "    print(f\"Conversion Rate {metric.capitalize()} Group 2: {conversion_rate_2:.2%}\")\n",
        "    metric_change = conversion_rate_2 / conversion_rate_1 - 1\n",
        "    print(f\"Metric_change: {metric_change:.2%}\")\n",
        "\n",
        "    # Виконуємо Z-тест для кожної метрики\n",
        "    z_stat, p_value = sm.stats.proportions_ztest([event_1, event_2], [session_1, session_2])\n",
        "    print(f\"Z-statistic for {metric.capitalize()}: {z_stat}\")\n",
        "    print(f\"P-value for {metric.capitalize()}: {p_value}\")\n",
        "    print(f\"P-value for {metric.capitalize()}: {p_value}\")\n",
        "    # Інтерпретація результатів\n",
        "    significant = p_value < 0.05\n",
        "    print(f\"Significant for {metric.capitalize()}: {'True' if significant else 'False'}\")\n",
        "    print(\"-\" * 50)  # Роздільник для кращої читабельності"
      ],
      "metadata": {
        "colab": {
          "base_uri": "https://localhost:8080/"
        },
        "id": "91sOODN_ctnl",
        "outputId": "d11da060-302b-473d-98a8-f3599da7aaa1"
      },
      "execution_count": null,
      "outputs": [
        {
          "output_type": "stream",
          "name": "stdout",
          "text": [
            "Conversion Rate Add_payment_info Group 1: 6.10%\n",
            "Conversion Rate Add_payment_info Group 2: 6.66%\n",
            "Metric_change: 9.14%\n",
            "Z-statistic for Add_payment_info: -1.0109059440882084\n",
            "P-value for Add_payment_info: 0.31206144881364284\n",
            "P-value for Add_payment_info: 0.31206144881364284\n",
            "Significant for Add_payment_info: False\n",
            "--------------------------------------------------\n",
            "Conversion Rate Add_shipping_info Group 1: 7.73%\n",
            "Conversion Rate Add_shipping_info Group 2: 8.91%\n",
            "Metric_change: 15.29%\n",
            "Z-statistic for Add_shipping_info: -1.8941234885607305\n",
            "P-value for Add_shipping_info: 0.058208620675484775\n",
            "P-value for Add_shipping_info: 0.058208620675484775\n",
            "Significant for Add_shipping_info: False\n",
            "--------------------------------------------------\n",
            "Conversion Rate Begin_checkout Group 1: 10.10%\n",
            "Conversion Rate Begin_checkout Group 2: 10.98%\n",
            "Metric_change: 8.73%\n",
            "Z-statistic for Begin_checkout: -1.2709444175976554\n",
            "P-value for Begin_checkout: 0.20374842306540475\n",
            "P-value for Begin_checkout: 0.20374842306540475\n",
            "Significant for Begin_checkout: False\n",
            "--------------------------------------------------\n",
            "Conversion Rate New_account Group 1: 8.04%\n",
            "Conversion Rate New_account Group 2: 8.45%\n",
            "Metric_change: 5.20%\n",
            "Z-statistic for New_account: -0.6732587331977926\n",
            "P-value for New_account: 0.500782701424417\n",
            "P-value for New_account: 0.500782701424417\n",
            "Significant for New_account: False\n",
            "--------------------------------------------------\n"
          ]
        }
      ]
    },
    {
      "cell_type": "markdown",
      "source": [
        "**Висновок:**\n",
        "Результати A/B тесту 1 для каналу Social Search показують, що всі чотири метрики не мають статистично значущих відмінностей між Group 1 і Group 2.\n",
        "- Conversion Rate Add_payment_info: Конверсія зросла на 9.14%, але p-value = 0.3121, що не є статистично значущим (p > 0.05). Це означає, що спостережене зростання може бути випадковим.\n",
        "- Conversion Rate Add_shipping_info: Конверсія збільшилася на 15.29%, при цьому p-value = 0.0582, що трохи вище порогового значення 0.05. Це означає, що різниця між групами не є достатньо значущою з точки зору статистики.\n",
        "- Conversion Rate Begin_checkout: Конверсія зросла на 8.73%, але p-value = 0.2037, що не є статистично значущим (p > 0.05).\n",
        "- Conversion Rate New_account: Конверсія зросла на 5.20%, але p-value = 0.5008, що також не є статистично значущим (p > 0.05).\n",
        "\n",
        "Оскільки для всіх чотирьох метрик p-value > 0.05, ми не можемо відхилити нульову гіпотезу. Це означає, що спостережені зміни в конверсіях між Group 1 і Group 2 не є статистично значущими, і ймовірно, можуть бути результатом випадкових коливань. Загалом зміни в Group 2 не продемонстрували значущого  впливу на конверсію, проте для отримання більш точних висновків можна провести додаткове тестування, оскільки спостерігається, позитивна тенденція по всіх метриках.\n",
        "\n"
      ],
      "metadata": {
        "id": "MT3g6IaqEvSL"
      }
    },
    {
      "cell_type": "code",
      "source": [
        "# Виведення результатів тесту 1 для каналу Paid Search\n",
        "filtered_df = df[(df[\"test\"]==1) & (df[\"channel\"] == \"Paid Search\")]\n",
        "grouped_df1_ps = filtered_df.groupby([\"event_name\", \"test_group\"])[\"value\"].sum().unstack().reset_index()\n",
        "grouped_df1_ps.columns = [\"event_name\", \"test_group1\", \"test_group2\"]\n",
        "print(grouped_df1_ps)"
      ],
      "metadata": {
        "colab": {
          "base_uri": "https://localhost:8080/"
        },
        "id": "4y37LgXed7hX",
        "outputId": "c0e9d3cf-c825-4293-b9de-035e9897376f"
      },
      "execution_count": null,
      "outputs": [
        {
          "output_type": "stream",
          "name": "stdout",
          "text": [
            "             event_name  test_group1  test_group2\n",
            "0      add_payment_info          450          519\n",
            "1     add_shipping_info          770          794\n",
            "2           add_to_cart          379          365\n",
            "3        begin_checkout          967          958\n",
            "4                 click           91           78\n",
            "5           first_visit         9195         9295\n",
            "6           new_account          990          948\n",
            "7             page_view        49040        50966\n",
            "8                scroll        18127        18530\n",
            "9           select_item          123          128\n",
            "10     select_promotion          338          352\n",
            "11              session        11777        11841\n",
            "12        session_start        11981        11990\n",
            "13  session_with_orders         1185         1183\n",
            "14      user_engagement        43429        45767\n",
            "15            view_item        15638        16503\n",
            "16       view_item_list            8            5\n",
            "17       view_promotion         7777         7692\n",
            "18  view_search_results          890         1012\n"
          ]
        }
      ]
    },
    {
      "cell_type": "code",
      "source": [
        "# Перевірка розподілу даних в групах\n",
        "total_group1 = grouped_df1_ps[\"test_group1\"].sum()\n",
        "total_group2 = grouped_df1_ps[\"test_group2\"].sum()\n",
        "total = total_group1 + total_group2\n",
        "proportion_group1 = total_group1 / total\n",
        "proportion_group2 = total_group2 / total\n",
        "print(f\"Пропорція групи 1: {proportion_group1:.2%}\")\n",
        "print(f\"Пропорція групи 2: {proportion_group2:.2%}\")\n",
        "if 0.48 <= proportion_group1 <= 0.52:\n",
        "    print(\"Розподіл в групах є рівномірним.\")\n",
        "else:\n",
        "    print(\"Розподіл в групах не рівномірний.\")"
      ],
      "metadata": {
        "colab": {
          "base_uri": "https://localhost:8080/"
        },
        "id": "CMcmdyEje8Sx",
        "outputId": "01feda27-d0f2-49d1-bfa7-013d3797dcaf"
      },
      "execution_count": null,
      "outputs": [
        {
          "output_type": "stream",
          "name": "stdout",
          "text": [
            "Пропорція групи 1: 49.18%\n",
            "Пропорція групи 2: 50.82%\n",
            "Розподіл в групах є рівномірним.\n"
          ]
        }
      ]
    },
    {
      "cell_type": "code",
      "source": [
        "# Список метрик, які потрібно обробити\n",
        "metrics = ['add_payment_info', 'add_shipping_info', 'begin_checkout', 'new_account']\n",
        "# Створення списків для обчислення сесій та кількості подій для кожної групи\n",
        "for metric in metrics:\n",
        "    # Витягуємо кількість сесій та метрики для обох груп\n",
        "    session_1 = grouped_df1_ps.loc[grouped_df1_ps[\"event_name\"] == \"session\", \"test_group1\"].iloc[0]  # number of session for group 1\n",
        "    session_2 = grouped_df1_ps.loc[grouped_df1_ps[\"event_name\"] == \"session\", \"test_group2\"].iloc[0]  # number of session for group 2\n",
        "    event_1 = grouped_df1_ps.loc[grouped_df1_ps[\"event_name\"] == metric, \"test_group1\"].iloc[0]  # number of event for group 1\n",
        "    event_2 = grouped_df1_ps.loc[grouped_df1_ps[\"event_name\"] == metric, \"test_group2\"].iloc[0]  # number of event for group 2\n",
        "    # Обчислюємо конверсії для кожної метрики\n",
        "    conversion_rate_1 = event_1 / session_1\n",
        "    conversion_rate_2 = event_2 / session_2\n",
        "    print(f\"Conversion Rate {metric.capitalize()} Group 1: {conversion_rate_1:.2%}\")\n",
        "    print(f\"Conversion Rate {metric.capitalize()} Group 2: {conversion_rate_2:.2%}\")\n",
        "    metric_change = conversion_rate_2 / conversion_rate_1 - 1\n",
        "    print(f\"Metric_change: {metric_change:.2%}\")\n",
        "    # Виконуємо Z-тест для кожної метрики\n",
        "    z_stat, p_value = sm.stats.proportions_ztest([event_1, event_2], [session_1, session_2])\n",
        "    print(f\"Z-statistic for {metric.capitalize()}: {z_stat}\")\n",
        "    print(f\"P-value for {metric.capitalize()}: {p_value}\")\n",
        "    print(f\"P-value for {metric.capitalize()}: {p_value}\")\n",
        "    # Інтерпретація результатів\n",
        "    significant = p_value < 0.05\n",
        "    print(f\"Significant for {metric.capitalize()}: {'True' if significant else 'False'}\")\n",
        "    print(\"-\" * 50)  # Роздільник для кращої читабельності"
      ],
      "metadata": {
        "colab": {
          "base_uri": "https://localhost:8080/"
        },
        "id": "4VHOiKxWfSrd",
        "outputId": "29ad626e-f8d1-404c-a05d-ba222232156d"
      },
      "execution_count": null,
      "outputs": [
        {
          "output_type": "stream",
          "name": "stdout",
          "text": [
            "Conversion Rate Add_payment_info Group 1: 3.82%\n",
            "Conversion Rate Add_payment_info Group 2: 4.38%\n",
            "Metric_change: 14.71%\n",
            "Z-statistic for Add_payment_info: -2.177389322371911\n",
            "P-value for Add_payment_info: 0.029451531682692326\n",
            "P-value for Add_payment_info: 0.029451531682692326\n",
            "Significant for Add_payment_info: True\n",
            "--------------------------------------------------\n",
            "Conversion Rate Add_shipping_info Group 1: 6.54%\n",
            "Conversion Rate Add_shipping_info Group 2: 6.71%\n",
            "Metric_change: 2.56%\n",
            "Z-statistic for Add_shipping_info: -0.5171175484031051\n",
            "P-value for Add_shipping_info: 0.6050741043001047\n",
            "P-value for Add_shipping_info: 0.6050741043001047\n",
            "Significant for Add_shipping_info: False\n",
            "--------------------------------------------------\n",
            "Conversion Rate Begin_checkout Group 1: 8.21%\n",
            "Conversion Rate Begin_checkout Group 2: 8.09%\n",
            "Metric_change: -1.47%\n",
            "Z-statistic for Begin_checkout: 0.3380931746905805\n",
            "P-value for Begin_checkout: 0.7352929738262673\n",
            "P-value for Begin_checkout: 0.7352929738262673\n",
            "Significant for Begin_checkout: False\n",
            "--------------------------------------------------\n",
            "Conversion Rate New_account Group 1: 8.41%\n",
            "Conversion Rate New_account Group 2: 8.01%\n",
            "Metric_change: -4.76%\n",
            "Z-statistic for New_account: 1.1202966436166282\n",
            "P-value for New_account: 0.26258737187988956\n",
            "P-value for New_account: 0.26258737187988956\n",
            "Significant for New_account: False\n",
            "--------------------------------------------------\n"
          ]
        }
      ]
    },
    {
      "cell_type": "markdown",
      "source": [
        "**Висновок:**\n",
        "Результати тесту 1 для каналу Paid Search показують, що лише одна з чотирьох метрик має статистично значущі відмінності між Group 1 і Group 2.\n",
        "- Conversion Rate Add_payment_info: Конверсія зросла на 14.71%, p-value = 0.0295, що є статистично значущим (p < 0.05). Це означає, що зміни в Group 2 мали позитивний вплив на цей показник.\n",
        "- Conversion Rate Add_shipping_info: Незначне зростання на 2.56%, але p-value = 0.6051, що не є статистично значущим (p > 0.05). Це свідчить про те, що зміни могли бути випадковими.\n",
        "- Conversion Rate Begin_checkout: Незначне зниження на 1.47%, p-value = 0.7353, що також не є статистично значущим (p > 0.05).\n",
        "- Conversion Rate New_account: Зниження на 4.76%, але p-value = 0.2626, що не є статистично значущим (p > 0.05).\n",
        "\n",
        "Оскільки p-value < 0.05 тільки для Conversion Rate Add_payment_info, ми можемо відхилити нульову гіпотезу і визнати, що зміни в Group 2 суттєво покращили цей показник. Для інших метрик p-value > 0.05, тому ми не можемо стверджувати, що зміни в Group 2 вплинули на них. Загалом, тест показав позитивний ефект для Add_payment_info, але для решти метрик статистично значущих відмінностей не виявлено.\n",
        "\n"
      ],
      "metadata": {
        "id": "pggmit2DFIpF"
      }
    },
    {
      "cell_type": "markdown",
      "source": [
        "### Спрощення коду для роботи з різним каналами та метриками."
      ],
      "metadata": {
        "id": "1aCR1xHTi6MX"
      }
    },
    {
      "cell_type": "code",
      "source": [
        "# Список метрик для обробки\n",
        "metrics = ['add_payment_info', 'add_shipping_info', 'begin_checkout', 'new_account']\n",
        "# Словник для каналу з відповідними дата-сетами\n",
        "datasets = {\n",
        "    'direct': grouped_df1_direct,\n",
        "    'organic_search': grouped_df1_os,\n",
        "    'social_search': grouped_df1_ss,\n",
        "    'paid_search': grouped_df1_ps\n",
        "}\n",
        "# Перебір по всіх каналах і метриках\n",
        "for channel, data in datasets.items():\n",
        "    print(f\"\\nResults for channel: {channel.capitalize()}\")\n",
        "    for metric in metrics:\n",
        "        # Витягуємо кількість сесій та метрики для обох груп\n",
        "        session_1 = data.loc[data[\"event_name\"] == \"session\", \"test_group1\"].iloc[0]\n",
        "        session_2 = data.loc[data[\"event_name\"] == \"session\", \"test_group2\"].iloc[0]\n",
        "        event_1 = data.loc[data[\"event_name\"] == metric, \"test_group1\"].iloc[0]\n",
        "        event_2 = data.loc[data[\"event_name\"] == metric, \"test_group2\"].iloc[0]\n",
        "        # Обчислюємо конверсії для кожної метрики\n",
        "        conversion_rate_1 = event_1 / session_1\n",
        "        conversion_rate_2 = event_2 / session_2\n",
        "        print(f\"Conversion Rate {metric.capitalize()} Group 1: {conversion_rate_1:.2%}\")\n",
        "        print(f\"Conversion Rate {metric.capitalize()} Group 2: {conversion_rate_2:.2%}\")\n",
        "        metric_change = conversion_rate_2 / conversion_rate_1 - 1\n",
        "        print(f\"Metric_change {metric.capitalize()}: {metric_change:.2%}\")\n",
        "        # Виконуємо Z-тест для кожної метрики\n",
        "        z_stat, p_value = sm.stats.proportions_ztest([event_1, event_2], [session_1, session_2])\n",
        "        print(f\"Z-statistic for {metric.capitalize()}: {z_stat}\")\n",
        "        print(f\"P-value for {metric.capitalize()}: {p_value}\")\n",
        "        print(f\"P-value for {metric.capitalize()}: {p_value}\")\n",
        "        # Інтерпретація результатів\n",
        "        significant = p_value < 0.05\n",
        "        print(f\"Significant for {metric.capitalize()}: {'True' if significant else 'False'}\")\n",
        "        print(\"-\" * 50)  # Роздільник для кращої читабельності"
      ],
      "metadata": {
        "colab": {
          "base_uri": "https://localhost:8080/"
        },
        "id": "ARrozpdIfqSU",
        "outputId": "2d0566c1-8850-403e-9978-1229f22ad3bc"
      },
      "execution_count": null,
      "outputs": [
        {
          "output_type": "stream",
          "name": "stdout",
          "text": [
            "\n",
            "Results for channel: Direct\n",
            "Conversion Rate Add_payment_info Group 1: 3.67%\n",
            "Conversion Rate Add_payment_info Group 2: 4.98%\n",
            "Metric_change Add_payment_info: 35.83%\n",
            "Z-statistic for Add_payment_info: -4.690261152959848\n",
            "P-value for Add_payment_info: 2.7285656989392044e-06\n",
            "P-value for Add_payment_info: 2.7285656989392044e-06\n",
            "Significant for Add_payment_info: True\n",
            "--------------------------------------------------\n",
            "Conversion Rate Add_shipping_info Group 1: 6.21%\n",
            "Conversion Rate Add_shipping_info Group 2: 6.91%\n",
            "Metric_change Add_shipping_info: 11.27%\n",
            "Z-statistic for Add_shipping_info: -2.050707497700552\n",
            "P-value for Add_shipping_info: 0.040295440378197364\n",
            "P-value for Add_shipping_info: 0.040295440378197364\n",
            "Significant for Add_shipping_info: True\n",
            "--------------------------------------------------\n",
            "Conversion Rate Begin_checkout Group 1: 7.70%\n",
            "Conversion Rate Begin_checkout Group 2: 8.83%\n",
            "Metric_change Begin_checkout: 14.72%\n",
            "Z-statistic for Begin_checkout: -2.986589005359636\n",
            "P-value for Begin_checkout: 0.0028210870432094437\n",
            "P-value for Begin_checkout: 0.0028210870432094437\n",
            "Significant for Begin_checkout: True\n",
            "--------------------------------------------------\n",
            "Conversion Rate New_account Group 1: 8.54%\n",
            "Conversion Rate New_account Group 2: 8.20%\n",
            "Metric_change New_account: -3.94%\n",
            "Z-statistic for New_account: 0.8799990554134905\n",
            "P-value for New_account: 0.37885982126254425\n",
            "P-value for New_account: 0.37885982126254425\n",
            "Significant for New_account: False\n",
            "--------------------------------------------------\n",
            "\n",
            "Results for channel: Organic_search\n",
            "Conversion Rate Add_payment_info Group 1: 4.08%\n",
            "Conversion Rate Add_payment_info Group 2: 3.29%\n",
            "Metric_change Add_payment_info: -19.46%\n",
            "Z-statistic for Add_payment_info: 3.730758025866682\n",
            "P-value for Add_payment_info: 0.0001909045129292049\n",
            "P-value for Add_payment_info: 0.0001909045129292049\n",
            "Significant for Add_payment_info: True\n",
            "--------------------------------------------------\n",
            "Conversion Rate Add_shipping_info Group 1: 6.51%\n",
            "Conversion Rate Add_shipping_info Group 2: 5.90%\n",
            "Metric_change Add_shipping_info: -9.44%\n",
            "Z-statistic for Add_shipping_info: 2.2550944824879924\n",
            "P-value for Add_shipping_info: 0.024127398901353108\n",
            "P-value for Add_shipping_info: 0.024127398901353108\n",
            "Significant for Add_shipping_info: True\n",
            "--------------------------------------------------\n",
            "Conversion Rate Begin_checkout Group 1: 7.97%\n",
            "Conversion Rate Begin_checkout Group 2: 7.32%\n",
            "Metric_change Begin_checkout: -8.15%\n",
            "Z-statistic for Begin_checkout: 2.1619556233036095\n",
            "P-value for Begin_checkout: 0.030621596905618862\n",
            "P-value for Begin_checkout: 0.030621596905618862\n",
            "Significant for Begin_checkout: True\n",
            "--------------------------------------------------\n",
            "Conversion Rate New_account Group 1: 8.34%\n",
            "Conversion Rate New_account Group 2: 8.32%\n",
            "Metric_change New_account: -0.18%\n",
            "Z-statistic for New_account: 0.04774515837519806\n",
            "P-value for New_account: 0.9619193439402388\n",
            "P-value for New_account: 0.9619193439402388\n",
            "Significant for New_account: False\n",
            "--------------------------------------------------\n",
            "\n",
            "Results for channel: Social_search\n",
            "Conversion Rate Add_payment_info Group 1: 6.10%\n",
            "Conversion Rate Add_payment_info Group 2: 6.66%\n",
            "Metric_change Add_payment_info: 9.14%\n",
            "Z-statistic for Add_payment_info: -1.0109059440882084\n",
            "P-value for Add_payment_info: 0.31206144881364284\n",
            "P-value for Add_payment_info: 0.31206144881364284\n",
            "Significant for Add_payment_info: False\n",
            "--------------------------------------------------\n",
            "Conversion Rate Add_shipping_info Group 1: 7.73%\n",
            "Conversion Rate Add_shipping_info Group 2: 8.91%\n",
            "Metric_change Add_shipping_info: 15.29%\n",
            "Z-statistic for Add_shipping_info: -1.8941234885607305\n",
            "P-value for Add_shipping_info: 0.058208620675484775\n",
            "P-value for Add_shipping_info: 0.058208620675484775\n",
            "Significant for Add_shipping_info: False\n",
            "--------------------------------------------------\n",
            "Conversion Rate Begin_checkout Group 1: 10.10%\n",
            "Conversion Rate Begin_checkout Group 2: 10.98%\n",
            "Metric_change Begin_checkout: 8.73%\n",
            "Z-statistic for Begin_checkout: -1.2709444175976554\n",
            "P-value for Begin_checkout: 0.20374842306540475\n",
            "P-value for Begin_checkout: 0.20374842306540475\n",
            "Significant for Begin_checkout: False\n",
            "--------------------------------------------------\n",
            "Conversion Rate New_account Group 1: 8.04%\n",
            "Conversion Rate New_account Group 2: 8.45%\n",
            "Metric_change New_account: 5.20%\n",
            "Z-statistic for New_account: -0.6732587331977926\n",
            "P-value for New_account: 0.500782701424417\n",
            "P-value for New_account: 0.500782701424417\n",
            "Significant for New_account: False\n",
            "--------------------------------------------------\n",
            "\n",
            "Results for channel: Paid_search\n",
            "Conversion Rate Add_payment_info Group 1: 3.82%\n",
            "Conversion Rate Add_payment_info Group 2: 4.38%\n",
            "Metric_change Add_payment_info: 14.71%\n",
            "Z-statistic for Add_payment_info: -2.177389322371911\n",
            "P-value for Add_payment_info: 0.029451531682692326\n",
            "P-value for Add_payment_info: 0.029451531682692326\n",
            "Significant for Add_payment_info: True\n",
            "--------------------------------------------------\n",
            "Conversion Rate Add_shipping_info Group 1: 6.54%\n",
            "Conversion Rate Add_shipping_info Group 2: 6.71%\n",
            "Metric_change Add_shipping_info: 2.56%\n",
            "Z-statistic for Add_shipping_info: -0.5171175484031051\n",
            "P-value for Add_shipping_info: 0.6050741043001047\n",
            "P-value for Add_shipping_info: 0.6050741043001047\n",
            "Significant for Add_shipping_info: False\n",
            "--------------------------------------------------\n",
            "Conversion Rate Begin_checkout Group 1: 8.21%\n",
            "Conversion Rate Begin_checkout Group 2: 8.09%\n",
            "Metric_change Begin_checkout: -1.47%\n",
            "Z-statistic for Begin_checkout: 0.3380931746905805\n",
            "P-value for Begin_checkout: 0.7352929738262673\n",
            "P-value for Begin_checkout: 0.7352929738262673\n",
            "Significant for Begin_checkout: False\n",
            "--------------------------------------------------\n",
            "Conversion Rate New_account Group 1: 8.41%\n",
            "Conversion Rate New_account Group 2: 8.01%\n",
            "Metric_change New_account: -4.76%\n",
            "Z-statistic for New_account: 1.1202966436166282\n",
            "P-value for New_account: 0.26258737187988956\n",
            "P-value for New_account: 0.26258737187988956\n",
            "Significant for New_account: False\n",
            "--------------------------------------------------\n"
          ]
        }
      ]
    },
    {
      "cell_type": "markdown",
      "source": [
        "## Розрахунок статистичної значущості чотирьох метрик для тесту 1 в розрізі пристроїв."
      ],
      "metadata": {
        "id": "nBuTF9ktEzWx"
      }
    },
    {
      "cell_type": "code",
      "source": [
        "# Виведення результатів тесту 1 для пристроїв Desktop\n",
        "filtered_df = df[(df[\"test\"]==1) & (df[\"device\"] == \"desktop\")]\n",
        "grouped_df1_desktop = filtered_df.groupby([\"event_name\", \"test_group\"])[\"value\"].sum().unstack().reset_index()\n",
        "grouped_df1_desktop.columns = [\"event_name\", \"test_group1\", \"test_group2\"]\n",
        "print(grouped_df1_desktop)"
      ],
      "metadata": {
        "colab": {
          "base_uri": "https://localhost:8080/"
        },
        "id": "b_c9RzEhiFXx",
        "outputId": "2542f7ea-88be-4d0b-e1cc-f3626e76661e"
      },
      "execution_count": null,
      "outputs": [
        {
          "output_type": "stream",
          "name": "stdout",
          "text": [
            "             event_name  test_group1  test_group2\n",
            "0      add_payment_info         1130         1256\n",
            "1     add_shipping_info         1711         1916\n",
            "2           add_to_cart          821          824\n",
            "3        begin_checkout         2108         2404\n",
            "4                 click          246          237\n",
            "5           first_visit        17999        18068\n",
            "6           new_account         2203         2147\n",
            "7             page_view       109466       116972\n",
            "8                scroll        42185        43170\n",
            "9           select_item          315          331\n",
            "10     select_promotion          774          794\n",
            "11              session        26467        26417\n",
            "12        session_start        26966        26902\n",
            "13  session_with_orders         2678         2677\n",
            "14      user_engagement        98144       105638\n",
            "15            view_item        35281        38386\n",
            "16       view_item_list           16           13\n",
            "17       view_promotion        16976        17142\n",
            "18  view_search_results         2116         2326\n"
          ]
        }
      ]
    },
    {
      "cell_type": "code",
      "source": [
        "# Перевірка розподілу даних в групах\n",
        "total_group1 = grouped_df1_desktop[\"test_group1\"].sum()\n",
        "total_group2 = grouped_df1_desktop[\"test_group2\"].sum()\n",
        "total = total_group1 + total_group2\n",
        "proportion_group1 = total_group1 / total\n",
        "proportion_group2 = total_group2 / total\n",
        "print(f\"Пропорція групи 1: {proportion_group1:.2%}\")\n",
        "print(f\"Пропорція групи 2: {proportion_group2:.2%}\")\n",
        "if 0.48 <= proportion_group1 <= 0.52:\n",
        "    print(\"Розподіл в групах є рівномірним.\")\n",
        "else:\n",
        "    print(\"Розподіл в групах не рівномірний.\")"
      ],
      "metadata": {
        "colab": {
          "base_uri": "https://localhost:8080/"
        },
        "id": "7UESIDKiFE5e",
        "outputId": "984dc90e-b16b-4eb0-9177-bf065075bc5d"
      },
      "execution_count": null,
      "outputs": [
        {
          "output_type": "stream",
          "name": "stdout",
          "text": [
            "Пропорція групи 1: 48.74%\n",
            "Пропорція групи 2: 51.26%\n",
            "Розподіл в групах є рівномірним.\n"
          ]
        }
      ]
    },
    {
      "cell_type": "code",
      "source": [
        "# Виведення результатів тесту 1 для пристроїв Mobile\n",
        "filtered_df = df[(df[\"test\"]==1) & (df[\"device\"] == \"mobile\")]\n",
        "grouped_df1_mobile = filtered_df.groupby([\"event_name\", \"test_group\"])[\"value\"].sum().unstack().reset_index()\n",
        "grouped_df1_mobile.columns = [\"event_name\", \"test_group1\", \"test_group2\"]\n",
        "print(grouped_df1_mobile)"
      ],
      "metadata": {
        "colab": {
          "base_uri": "https://localhost:8080/"
        },
        "id": "4ZAbixidFSon",
        "outputId": "75cb1cac-52b7-4ced-9e15-89ca67439841"
      },
      "execution_count": null,
      "outputs": [
        {
          "output_type": "stream",
          "name": "stdout",
          "text": [
            "             event_name  test_group1  test_group2\n",
            "0      add_payment_info          810          942\n",
            "1     add_shipping_info         1257         1256\n",
            "2           add_to_cart          537          511\n",
            "3        begin_checkout         1593         1561\n",
            "4                 click          109          110\n",
            "5           first_visit        11898        11749\n",
            "6           new_account         1530         1441\n",
            "7             page_view        77248        77264\n",
            "8                scroll        29308        28766\n",
            "9           select_item          202          187\n",
            "10     select_promotion          472          499\n",
            "11              session        17896        17767\n",
            "12        session_start        17907        17726\n",
            "13  session_with_orders         1738         1771\n",
            "14      user_engagement        69634        70005\n",
            "15            view_item        25362        25826\n",
            "16       view_item_list           11           11\n",
            "17       view_promotion        11552        11324\n",
            "18  view_search_results         1476         1479\n"
          ]
        }
      ]
    },
    {
      "cell_type": "code",
      "source": [
        "# Перевірка розподілу даних в групах\n",
        "total_group1 = grouped_df1_mobile[\"test_group1\"].sum()\n",
        "total_group2 = grouped_df1_mobile[\"test_group2\"].sum()\n",
        "total = total_group1 + total_group2\n",
        "proportion_group1 = total_group1 / total\n",
        "proportion_group2 = total_group2 / total\n",
        "print(f\"Пропорція групи 1: {proportion_group1:.2%}\")\n",
        "print(f\"Пропорція групи 2: {proportion_group2:.2%}\")\n",
        "if 0.48 <= proportion_group1 <= 0.52:\n",
        "    print(\"Розподіл в групах є рівномірним.\")\n",
        "else:\n",
        "    print(\"Розподіл в групах не рівномірний.\")"
      ],
      "metadata": {
        "colab": {
          "base_uri": "https://localhost:8080/"
        },
        "id": "u-L_HhryFh58",
        "outputId": "4aee981b-57ad-4b4c-b776-12b3273d13f3"
      },
      "execution_count": null,
      "outputs": [
        {
          "output_type": "stream",
          "name": "stdout",
          "text": [
            "Пропорція групи 1: 50.03%\n",
            "Пропорція групи 2: 49.97%\n",
            "Розподіл в групах є рівномірним.\n"
          ]
        }
      ]
    },
    {
      "cell_type": "code",
      "source": [
        "# Виведення результатів тесту 1 для пристроїв Tablet\n",
        "filtered_df = df[(df[\"test\"]==1) & (df[\"device\"] == \"tablet\")]\n",
        "grouped_df1_tablet = filtered_df.groupby([\"event_name\", \"test_group\"])[\"value\"].sum().unstack().reset_index()\n",
        "grouped_df1_tablet.columns = [\"event_name\", \"test_group1\", \"test_group2\"]\n",
        "print(grouped_df1_tablet)"
      ],
      "metadata": {
        "colab": {
          "base_uri": "https://localhost:8080/"
        },
        "id": "88MLXInTFv-I",
        "outputId": "0f363a89-d8cd-4a59-b06a-911b3873b42a"
      },
      "execution_count": null,
      "outputs": [
        {
          "output_type": "stream",
          "name": "stdout",
          "text": [
            "             event_name  test_group1  test_group2\n",
            "0      add_payment_info           48           31\n",
            "1     add_shipping_info           66           49\n",
            "2           add_to_cart           37           31\n",
            "3        begin_checkout           83           56\n",
            "4                 click           13            6\n",
            "5           first_visit          699          695\n",
            "6           new_account           90           93\n",
            "7             page_view         4829         3814\n",
            "8                scroll         1751         1440\n",
            "9           select_item           26           12\n",
            "10     select_promotion           29           30\n",
            "11              session          999         1009\n",
            "12        session_start         1032         1021\n",
            "13  session_with_orders           98           78\n",
            "14      user_engagement         4010         3438\n",
            "15            view_item         1692         1125\n",
            "16       view_promotion          660          651\n",
            "17  view_search_results           86           77\n"
          ]
        }
      ]
    },
    {
      "cell_type": "code",
      "source": [
        "# Перевірка розподілу даних в групах\n",
        "total_group1 = grouped_df1_tablet[\"test_group1\"].sum()\n",
        "total_group2 = grouped_df1_tablet[\"test_group2\"].sum()\n",
        "total = total_group1 + total_group2\n",
        "proportion_group1 = total_group1 / total\n",
        "proportion_group2 = total_group2 / total\n",
        "print(f\"Пропорція групи 1: {proportion_group1:.2%}\")\n",
        "print(f\"Пропорція групи 2: {proportion_group2:.2%}\")\n",
        "if 0.48 <= proportion_group1 <= 0.52:\n",
        "    print(\"Розподіл в групах є рівномірним.\")\n",
        "else:\n",
        "    print(\"Розподіл в групах не рівномірний.\")"
      ],
      "metadata": {
        "colab": {
          "base_uri": "https://localhost:8080/"
        },
        "id": "3SZvmz9FFpZt",
        "outputId": "a48d79e3-20f3-4a5e-d09b-d9ed1b7ec945"
      },
      "execution_count": null,
      "outputs": [
        {
          "output_type": "stream",
          "name": "stdout",
          "text": [
            "Пропорція групи 1: 54.33%\n",
            "Пропорція групи 2: 45.67%\n",
            "Розподіл в групах не рівномірний.\n"
          ]
        }
      ]
    },
    {
      "cell_type": "code",
      "source": [
        "# Список метрик для обробки\n",
        "metrics = ['add_payment_info', 'add_shipping_info', 'begin_checkout', 'new_account']\n",
        "# Словник з відповідними дата-сетами\n",
        "datasets = {\n",
        "    'desktop': grouped_df1_desktop,\n",
        "    'mobile': grouped_df1_mobile,\n",
        "    'tablet': grouped_df1_tablet\n",
        "}\n",
        "# Перебір по всіх пристроях і метриках\n",
        "for device, data in datasets.items():\n",
        "    print(f\"\\nResults for device: {device.capitalize()}\")\n",
        "    for metric in metrics:\n",
        "        # Витягуємо кількість сесій та метрики для обох груп\n",
        "        session_1 = data.loc[data[\"event_name\"] == \"session\", \"test_group1\"].iloc[0]\n",
        "        session_2 = data.loc[data[\"event_name\"] == \"session\", \"test_group2\"].iloc[0]\n",
        "        event_1 = data.loc[data[\"event_name\"] == metric, \"test_group1\"].iloc[0]\n",
        "        event_2 = data.loc[data[\"event_name\"] == metric, \"test_group2\"].iloc[0]\n",
        "        # Обчислюємо конверсії для кожної метрики\n",
        "        conversion_rate_1 = event_1 / session_1\n",
        "        conversion_rate_2 = event_2 / session_2\n",
        "        print(f\"Conversion Rate {metric.capitalize()} Group 1: {conversion_rate_1:.2%}\")\n",
        "        print(f\"Conversion Rate {metric.capitalize()} Group 2: {conversion_rate_2:.2%}\")\n",
        "        metric_change = conversion_rate_2 / conversion_rate_1 - 1\n",
        "        print(f\"Metric_change {metric.capitalize()}: {metric_change:.2%}\")\n",
        "        # Виконуємо Z-тест для кожної метрики\n",
        "        z_stat, p_value = sm.stats.proportions_ztest([event_1, event_2], [session_1, session_2])\n",
        "        print(f\"Z-statistic for {metric.capitalize()}: {z_stat}\")\n",
        "        print(f\"P-value for {metric.capitalize()}: {p_value}\")\n",
        "        print(f\"P-value for {metric.capitalize()}: {p_value}\")\n",
        "        # Інтерпретація результатів\n",
        "        significant = p_value < 0.05\n",
        "        print(f\"Significant for {metric.capitalize()}: {'True' if significant else 'False'}\")\n",
        "        print(\"-\" * 50)  # Роздільник для кращої читабельності"
      ],
      "metadata": {
        "colab": {
          "base_uri": "https://localhost:8080/"
        },
        "id": "g0yRPmSDGIIt",
        "outputId": "7e17b5c5-1b9f-492b-ec5f-99d55bcdd546"
      },
      "execution_count": null,
      "outputs": [
        {
          "output_type": "stream",
          "name": "stdout",
          "text": [
            "\n",
            "Results for device: Desktop\n",
            "Conversion Rate Add_payment_info Group 1: 4.27%\n",
            "Conversion Rate Add_payment_info Group 2: 4.75%\n",
            "Metric_change Add_payment_info: 11.36%\n",
            "Z-statistic for Add_payment_info: -2.6869978643818566\n",
            "P-value for Add_payment_info: 0.007209741371215498\n",
            "P-value for Add_payment_info: 0.007209741371215498\n",
            "Significant for Add_payment_info: True\n",
            "--------------------------------------------------\n",
            "Conversion Rate Add_shipping_info Group 1: 6.46%\n",
            "Conversion Rate Add_shipping_info Group 2: 7.25%\n",
            "Metric_change Add_shipping_info: 12.19%\n",
            "Z-statistic for Add_shipping_info: -3.5860236942640444\n",
            "P-value for Add_shipping_info: 0.0003357584652017076\n",
            "P-value for Add_shipping_info: 0.0003357584652017076\n",
            "Significant for Add_shipping_info: True\n",
            "--------------------------------------------------\n",
            "Conversion Rate Begin_checkout Group 1: 7.96%\n",
            "Conversion Rate Begin_checkout Group 2: 9.10%\n",
            "Metric_change Begin_checkout: 14.26%\n",
            "Z-statistic for Begin_checkout: -4.673979974671707\n",
            "P-value for Begin_checkout: 2.9541814920943097e-06\n",
            "P-value for Begin_checkout: 2.9541814920943097e-06\n",
            "Significant for Begin_checkout: True\n",
            "--------------------------------------------------\n",
            "Conversion Rate New_account Group 1: 8.32%\n",
            "Conversion Rate New_account Group 2: 8.13%\n",
            "Metric_change New_account: -2.36%\n",
            "Z-statistic for New_account: 0.8212116741501213\n",
            "P-value for New_account: 0.41152570800346633\n",
            "P-value for New_account: 0.41152570800346633\n",
            "Significant for New_account: False\n",
            "--------------------------------------------------\n",
            "\n",
            "Results for device: Mobile\n",
            "Conversion Rate Add_payment_info Group 1: 4.53%\n",
            "Conversion Rate Add_payment_info Group 2: 5.30%\n",
            "Metric_change Add_payment_info: 17.14%\n",
            "Z-statistic for Add_payment_info: -3.389329567647079\n",
            "P-value for Add_payment_info: 0.0007006374762030875\n",
            "P-value for Add_payment_info: 0.0007006374762030875\n",
            "Significant for Add_payment_info: True\n",
            "--------------------------------------------------\n",
            "Conversion Rate Add_shipping_info Group 1: 7.02%\n",
            "Conversion Rate Add_shipping_info Group 2: 7.07%\n",
            "Metric_change Add_shipping_info: 0.65%\n",
            "Z-statistic for Add_shipping_info: -0.16738740850789754\n",
            "P-value for Add_shipping_info: 0.867065231958409\n",
            "P-value for Add_shipping_info: 0.867065231958409\n",
            "Significant for Add_shipping_info: False\n",
            "--------------------------------------------------\n",
            "Conversion Rate Begin_checkout Group 1: 8.90%\n",
            "Conversion Rate Begin_checkout Group 2: 8.79%\n",
            "Metric_change Begin_checkout: -1.30%\n",
            "Z-statistic for Begin_checkout: 0.3840292939810063\n",
            "P-value for Begin_checkout: 0.7009567356723287\n",
            "P-value for Begin_checkout: 0.7009567356723287\n",
            "Significant for Begin_checkout: False\n",
            "--------------------------------------------------\n",
            "Conversion Rate New_account Group 1: 8.55%\n",
            "Conversion Rate New_account Group 2: 8.11%\n",
            "Metric_change New_account: -5.13%\n",
            "Z-statistic for New_account: 1.499486138957241\n",
            "P-value for New_account: 0.13374756193786455\n",
            "P-value for New_account: 0.13374756193786455\n",
            "Significant for New_account: False\n",
            "--------------------------------------------------\n",
            "\n",
            "Results for device: Tablet\n",
            "Conversion Rate Add_payment_info Group 1: 4.80%\n",
            "Conversion Rate Add_payment_info Group 2: 3.07%\n",
            "Metric_change Add_payment_info: -36.06%\n",
            "Z-statistic for Add_payment_info: 1.9966076075357055\n",
            "P-value for Add_payment_info: 0.04586782579263077\n",
            "P-value for Add_payment_info: 0.04586782579263077\n",
            "Significant for Add_payment_info: True\n",
            "--------------------------------------------------\n",
            "Conversion Rate Add_shipping_info Group 1: 6.61%\n",
            "Conversion Rate Add_shipping_info Group 2: 4.86%\n",
            "Metric_change Add_shipping_info: -26.49%\n",
            "Z-statistic for Add_shipping_info: 1.6877251958380937\n",
            "P-value for Add_shipping_info: 0.0914639928431928\n",
            "P-value for Add_shipping_info: 0.0914639928431928\n",
            "Significant for Add_shipping_info: False\n",
            "--------------------------------------------------\n",
            "Conversion Rate Begin_checkout Group 1: 8.31%\n",
            "Conversion Rate Begin_checkout Group 2: 5.55%\n",
            "Metric_change Begin_checkout: -33.20%\n",
            "Z-statistic for Begin_checkout: 2.4346309345741632\n",
            "P-value for Begin_checkout: 0.014906985506589771\n",
            "P-value for Begin_checkout: 0.014906985506589771\n",
            "Significant for Begin_checkout: True\n",
            "--------------------------------------------------\n",
            "Conversion Rate New_account Group 1: 9.01%\n",
            "Conversion Rate New_account Group 2: 9.22%\n",
            "Metric_change New_account: 2.31%\n",
            "Z-statistic for New_account: -0.16195523037994808\n",
            "P-value for New_account: 0.8713411093173797\n",
            "P-value for New_account: 0.8713411093173797\n",
            "Significant for New_account: False\n",
            "--------------------------------------------------\n"
          ]
        }
      ]
    },
    {
      "cell_type": "markdown",
      "source": [
        "**Висновок за результатами A/B тесту 1 в розрізі пристроїв:**\n",
        "\n",
        "*Desktop*\n",
        "\n",
        "На десктопах тест показав статистично значущі покращення для трьох з чотирьох метрик:\n",
        "- Conversion Rate Add_payment_info: зростання на 11.36%, p-value = 0.0072 (значущо).\n",
        "- Conversion Rate Add_shipping_info: зростання на 12.19%, p-value = 0.0003 (значущо).\n",
        "- Conversion Rate Begin_checkout: зростання на 14.26%, p-value < 0.0001 (значущо).\n",
        "- Conversion Rate New_account: зміни на -2.36%, p-value = 0.4115, не значущо.\n",
        "\n",
        "*Mobile*\n",
        "\n",
        "На мобільних пристроях значущі результати отримано лише для Add_payment_info, інші метрики не показали статистично значущих змін:\n",
        "- Conversion Rate Add_payment_info: зростання на 17.14%, p-value = 0.0007 (значущо).\n",
        "- Conversion Rate Add_shipping_info: незначне зростання на 0.65%, p-value = 0.8671, не значущо.\n",
        "- Conversion Rate Begin_checkout: незначне зниження на -1.30%, p-value = 0.7010, не значущо.\n",
        "- Conversion Rate New_account: зниження на -5.13%, p-value = 0.1337, не значущо.\n",
        "\n",
        "*Tablet*\n",
        "\n",
        "Для планшетів характерним був нерівномірний розподіл користувачів в групах, до того ж даних дуже мало, що могло вплинути на результат. Результати були негативними, з статистично значущим погіршенням для Add_payment_info та Begin_checkout:\n",
        "- Conversion Rate Add_payment_info: зниження на -36.06%, p-value = 0.0459 (значущо).\n",
        "- Conversion Rate Add_shipping_info: зниження на -26.49%, p-value = 0.0915, не значущо.\n",
        "- Conversion Rate Begin_checkout: зниження на -33.20%, p-value = 0.0149 (значущо).\n",
        "- Conversion Rate New_account: зміни на 2.31%, p-value = 0.8713, не значущо.\n",
        "\n",
        "Загальні висновки:\n",
        "- Найбільше позитивних змін відбулося на десктопах: зростання Add_payment_info, Add_shipping_info та Begin_checkout.\n",
        "- На мобільних пристроях покращився лише Add_payment_info, інші метрики не змінилися значущо.\n",
        "- На планшетах тест показав негативний вплив на Add_payment_info та Begin_checkout, а інші метрики не зазнали значущих змін.\n",
        "\n",
        "Ці результати можуть свідчити про те, що зміни працюють краще для десктопної версії, але можуть негативно впливати на користувачів планшетів. Рекомендується детальніше дослідити взаємодію користувачів з сайтом на планшетах.\n"
      ],
      "metadata": {
        "id": "wr86nVAdGGVP"
      }
    },
    {
      "cell_type": "markdown",
      "source": [
        "## Розрахунок статистичної значущості чотирьох метрик для тесту 1 в розрізі континентів."
      ],
      "metadata": {
        "id": "RJvLxv8WJQ3V"
      }
    },
    {
      "cell_type": "code",
      "source": [
        "# Виведення результатів тесту 1 для континенту Europe\n",
        "filtered_df = df[(df[\"test\"]==1) & (df[\"continent\"] == \"Europe\")]\n",
        "grouped_df1_eu = filtered_df.groupby([\"event_name\", \"test_group\"])[\"value\"].sum().unstack().reset_index()\n",
        "grouped_df1_eu.columns = [\"event_name\", \"test_group1\", \"test_group2\"]\n",
        "print(grouped_df1_eu)"
      ],
      "metadata": {
        "colab": {
          "base_uri": "https://localhost:8080/"
        },
        "id": "XdAy1FlrIetE",
        "outputId": "215e4be2-ca86-4992-d3fa-6d7214abdfec"
      },
      "execution_count": null,
      "outputs": [
        {
          "output_type": "stream",
          "name": "stdout",
          "text": [
            "             event_name  test_group1  test_group2\n",
            "0      add_payment_info          324          452\n",
            "1     add_shipping_info          528          606\n",
            "2           add_to_cart          214          303\n",
            "3        begin_checkout          645          744\n",
            "4                 click           71           82\n",
            "5           first_visit         5789         5793\n",
            "6           new_account          700          683\n",
            "7             page_view        35639        36298\n",
            "8                scroll        13354        13399\n",
            "9           select_item           91          109\n",
            "10     select_promotion          261          247\n",
            "11              session         8472         8423\n",
            "12        session_start         8572         8535\n",
            "13  session_with_orders          828          860\n",
            "14      user_engagement        31962        32639\n",
            "15            view_item        11214        11436\n",
            "16       view_item_list            4            3\n",
            "17       view_promotion         5605         5488\n",
            "18  view_search_results          597          667\n"
          ]
        }
      ]
    },
    {
      "cell_type": "code",
      "source": [
        "# Виведення результатів тесту 1 для континенту Americas\n",
        "filtered_df = df[(df[\"test\"]==1) & (df[\"continent\"] == \"Americas\")]\n",
        "grouped_df1_am = filtered_df.groupby([\"event_name\", \"test_group\"])[\"value\"].sum().unstack().reset_index()\n",
        "grouped_df1_am.columns = [\"event_name\", \"test_group1\", \"test_group2\"]\n",
        "print(grouped_df1_am)"
      ],
      "metadata": {
        "colab": {
          "base_uri": "https://localhost:8080/"
        },
        "id": "iXylLOBaJg1A",
        "outputId": "83a3085a-2edb-4a8b-d9ce-ef54b26fb60d"
      },
      "execution_count": null,
      "outputs": [
        {
          "output_type": "stream",
          "name": "stdout",
          "text": [
            "             event_name  test_group1  test_group2\n",
            "0      add_payment_info         1107         1177\n",
            "1     add_shipping_info         1704         1738\n",
            "2           add_to_cart          838          756\n",
            "3        begin_checkout         2130         2164\n",
            "4                 click          213          165\n",
            "5           first_visit        16879        16732\n",
            "6           new_account         2165         1971\n",
            "7             page_view       107050       110318\n",
            "8                scroll        41062        40325\n",
            "9           select_item          290          275\n",
            "10     select_promotion          674          725\n",
            "11              session        25164        24769\n",
            "12        session_start        25452        25024\n",
            "13  session_with_orders         2505         2454\n",
            "14      user_engagement        96138        99944\n",
            "15            view_item        35351        37052\n",
            "16       view_item_list           19           20\n",
            "17       view_promotion        16060        16059\n",
            "18  view_search_results         2131         2318\n"
          ]
        }
      ]
    },
    {
      "cell_type": "code",
      "source": [
        "# Виведення результатів тесту 1 для континенту Asia\n",
        "filtered_df = df[(df[\"test\"]==1) & (df[\"continent\"] == \"Asia\")]\n",
        "grouped_df1_as = filtered_df.groupby([\"event_name\", \"test_group\"])[\"value\"].sum().unstack().reset_index()\n",
        "grouped_df1_as.columns = [\"event_name\", \"test_group1\", \"test_group2\"]\n",
        "grouped_df1_as[\"test_group1\"] = grouped_df1_as[\"test_group1\"].fillna(0).astype(int)\n",
        "grouped_df1_as[\"test_group2\"] = grouped_df1_as[\"test_group2\"].fillna(0).astype(int)\n",
        "print(grouped_df1_as)"
      ],
      "metadata": {
        "colab": {
          "base_uri": "https://localhost:8080/"
        },
        "id": "EJMIhE7uJhi-",
        "outputId": "18cb5a4a-d16d-4f76-f139-ad3c487c1b7e"
      },
      "execution_count": null,
      "outputs": [
        {
          "output_type": "stream",
          "name": "stdout",
          "text": [
            "             event_name  test_group1  test_group2\n",
            "0      add_payment_info          512          545\n",
            "1     add_shipping_info          730          798\n",
            "2           add_to_cart          299          274\n",
            "3        begin_checkout          915         1002\n",
            "4                 click           77           93\n",
            "5           first_visit         7220         7274\n",
            "6           new_account          878          934\n",
            "7             page_view        44342        47023\n",
            "8                scroll        17155        17665\n",
            "9           select_item          156          122\n",
            "10     select_promotion          302          327\n",
            "11              session        10626        10932\n",
            "12        session_start        10782        11006\n",
            "13  session_with_orders         1072         1101\n",
            "14      user_engagement        39641        42544\n",
            "15            view_item        14357        15424\n",
            "16       view_item_list            4            0\n",
            "17       view_promotion         6797         6902\n",
            "18  view_search_results          886          846\n"
          ]
        }
      ]
    },
    {
      "cell_type": "code",
      "source": [
        "# Виведення результатів тесту 1 для континенту Africa\n",
        "filtered_df = df[(df[\"test\"]==1) & (df[\"continent\"] == \"Africa\")]\n",
        "grouped_df1_af = filtered_df.groupby([\"event_name\", \"test_group\"])[\"value\"].sum().unstack().reset_index()\n",
        "grouped_df1_af.columns = [\"event_name\", \"test_group1\", \"test_group2\"]\n",
        "print(grouped_df1_af)"
      ],
      "metadata": {
        "colab": {
          "base_uri": "https://localhost:8080/"
        },
        "id": "gbsQm9iMJ4_L",
        "outputId": "33ccc508-aab6-4954-a2fd-024c18d0cb44"
      },
      "execution_count": null,
      "outputs": [
        {
          "output_type": "stream",
          "name": "stdout",
          "text": [
            "             event_name  test_group1  test_group2\n",
            "0      add_payment_info           19           24\n",
            "1     add_shipping_info           41           28\n",
            "2           add_to_cart           16           14\n",
            "3        begin_checkout           54           33\n",
            "4                 click            2            6\n",
            "5           first_visit          325          317\n",
            "6           new_account           36           38\n",
            "7             page_view         2118         1783\n",
            "8                scroll          805          857\n",
            "9           select_item            6            6\n",
            "10     select_promotion           20            9\n",
            "11              session          494          474\n",
            "12        session_start          496          486\n",
            "13  session_with_orders           46           45\n",
            "14      user_engagement         1885         1575\n",
            "15            view_item          618          564\n",
            "16       view_promotion          364          282\n",
            "17  view_search_results           25           18\n"
          ]
        }
      ]
    },
    {
      "cell_type": "code",
      "source": [
        "# Виведення результатів тесту 1 для континенту Oceania\n",
        "filtered_df = df[(df[\"test\"]==1) & (df[\"continent\"] == \"Oceania\")]\n",
        "grouped_df1_oc = filtered_df.groupby([\"event_name\", \"test_group\"])[\"value\"].sum().unstack().reset_index()\n",
        "grouped_df1_oc.columns = [\"event_name\", \"test_group1\", \"test_group2\"]\n",
        "grouped_df1_oc[\"test_group1\"] = grouped_df1_oc[\"test_group1\"].fillna(0).astype(int)\n",
        "grouped_df1_oc[\"test_group2\"] = grouped_df1_oc[\"test_group2\"].fillna(0).astype(int)\n",
        "print(grouped_df1_oc)"
      ],
      "metadata": {
        "colab": {
          "base_uri": "https://localhost:8080/"
        },
        "id": "R_Liu9MvJ9os",
        "outputId": "5409c68b-454e-41dc-bb89-f837c572d7ea"
      },
      "execution_count": null,
      "outputs": [
        {
          "output_type": "stream",
          "name": "stdout",
          "text": [
            "             event_name  test_group1  test_group2\n",
            "0      add_payment_info           19           21\n",
            "1     add_shipping_info           27           38\n",
            "2           add_to_cart           25           18\n",
            "3        begin_checkout           36           56\n",
            "4                 click            4            6\n",
            "5           first_visit          318          330\n",
            "6           new_account           37           44\n",
            "7             page_view         2131         2028\n",
            "8                scroll          743          953\n",
            "9           select_item            0           14\n",
            "10     select_promotion           17           14\n",
            "11              session          509          495\n",
            "12        session_start          505          495\n",
            "13  session_with_orders           52           56\n",
            "14      user_engagement         1926         1818\n",
            "15            view_item          724          672\n",
            "16       view_item_list            0            1\n",
            "17       view_promotion          312          318\n",
            "18  view_search_results           34           29\n"
          ]
        }
      ]
    },
    {
      "cell_type": "code",
      "source": [
        "# Перевірка рівномірності розподілу даних  в групах для кожного континенту.\n",
        "def check_distribution(data, continent):\n",
        "    total_group1 = data[\"test_group1\"].sum()\n",
        "    total_group2 = data[\"test_group2\"].sum()\n",
        "    total = total_group1 + total_group2\n",
        "    proportion_group1 = total_group1 / total\n",
        "    proportion_group2 = total_group2 / total\n",
        "    print(f\"\\nРезультати для {continent}:\")\n",
        "    print(f\"Пропорція групи 1: {proportion_group1:.2%}\")\n",
        "    print(f\"Пропорція групи 2: {proportion_group2:.2%}\")\n",
        "    if 0.48 <= proportion_group1 <= 0.52:\n",
        "        print(\"Розподіл в групах є рівномірним.\")\n",
        "    else:\n",
        "        print(\"Розподіл в групах не рівномірний.\")\n",
        "# Список континентів і відповідних датасетів\n",
        "datasets = {\n",
        "    \"Europe\": grouped_df1_eu,\n",
        "    \"Americas\": grouped_df1_am,\n",
        "    \"Asia\": grouped_df1_as,\n",
        "    \"Africa\": grouped_df1_af,\n",
        "    \"Oceania\": grouped_df1_oc\n",
        "}\n",
        "# Перевіряємо рівномірність розподілу для кожного континенту.\n",
        "for continent, df in datasets.items():\n",
        "    check_distribution(df, continent)"
      ],
      "metadata": {
        "colab": {
          "base_uri": "https://localhost:8080/"
        },
        "id": "tURvcMGWKl9v",
        "outputId": "85127434-cd24-40d5-eeeb-1dd30dd44173"
      },
      "execution_count": null,
      "outputs": [
        {
          "output_type": "stream",
          "name": "stdout",
          "text": [
            "\n",
            "Результати для Europe:\n",
            "Пропорція групи 1: 49.62%\n",
            "Пропорція групи 2: 50.38%\n",
            "Розподіл в групах є рівномірним.\n",
            "\n",
            "Результати для Americas:\n",
            "Пропорція групи 1: 49.54%\n",
            "Пропорція групи 2: 50.46%\n",
            "Розподіл в групах є рівномірним.\n",
            "\n",
            "Результати для Asia:\n",
            "Пропорція групи 1: 48.75%\n",
            "Пропорція групи 2: 51.25%\n",
            "Розподіл в групах є рівномірним.\n",
            "\n",
            "Результати для Africa:\n",
            "Пропорція групи 1: 52.91%\n",
            "Пропорція групи 2: 47.09%\n",
            "Розподіл в групах не рівномірний.\n",
            "\n",
            "Результати для Oceania:\n",
            "Пропорція групи 1: 50.04%\n",
            "Пропорція групи 2: 49.96%\n",
            "Розподіл в групах є рівномірним.\n"
          ]
        }
      ]
    },
    {
      "cell_type": "code",
      "source": [
        "# Список метрик для обробки\n",
        "metrics = ['add_payment_info', 'add_shipping_info', 'begin_checkout', 'new_account']\n",
        "# Словник з відповідними дата-сетами\n",
        "datasets = {\n",
        "    \"Europe\": grouped_df1_eu,\n",
        "    \"Americas\": grouped_df1_am,\n",
        "    \"Asia\": grouped_df1_as,\n",
        "    \"Africa\": grouped_df1_af,\n",
        "    \"Oceania\": grouped_df1_oc\n",
        "}\n",
        "# Перебір по всіх континентах і метриках\n",
        "for continent, data in datasets.items():\n",
        "    print(f\"\\nResults for continent: {continent.capitalize()}\")\n",
        "    for metric in metrics:\n",
        "        # Витягуємо кількість сесій та метрики для обох груп\n",
        "        session_1 = data.loc[data[\"event_name\"] == \"session\", \"test_group1\"].iloc[0]\n",
        "        session_2 = data.loc[data[\"event_name\"] == \"session\", \"test_group2\"].iloc[0]\n",
        "        event_1 = data.loc[data[\"event_name\"] == metric, \"test_group1\"].iloc[0]\n",
        "        event_2 = data.loc[data[\"event_name\"] == metric, \"test_group2\"].iloc[0]\n",
        "        # Обчислюємо конверсії для кожної метрики\n",
        "        conversion_rate_1 = event_1 / session_1\n",
        "        conversion_rate_2 = event_2 / session_2\n",
        "        print(f\"Conversion Rate {metric.capitalize()} Group 1: {conversion_rate_1:.2%}\")\n",
        "        print(f\"Conversion Rate {metric.capitalize()} Group 2: {conversion_rate_2:.2%}\")\n",
        "        metric_change = conversion_rate_2 / conversion_rate_1 - 1\n",
        "        print(f\"Metric_change {metric.capitalize()}: {metric_change:.2%}\")\n",
        "        # Виконуємо Z-тест для кожної метрики\n",
        "        z_stat, p_value = sm.stats.proportions_ztest([event_1, event_2], [session_1, session_2])\n",
        "        print(f\"Z-statistic for {metric.capitalize()}: {z_stat}\")\n",
        "        print(f\"P-value for {metric.capitalize()}: {p_value}\")\n",
        "        print(f\"P-value for {metric.capitalize()}: {p_value}\")\n",
        "        # Інтерпретація результатів\n",
        "        significant = p_value < 0.05\n",
        "        print(f\"Significant for {metric.capitalize()}: {'True' if significant else 'False'}\")\n",
        "        print(\"-\" * 50)  # Роздільник для кращої читабельності"
      ],
      "metadata": {
        "colab": {
          "base_uri": "https://localhost:8080/"
        },
        "id": "qs-kxzWOPnqU",
        "outputId": "cbf42b0a-3979-42b9-cb17-0621db39f24a"
      },
      "execution_count": null,
      "outputs": [
        {
          "output_type": "stream",
          "name": "stdout",
          "text": [
            "\n",
            "Results for continent: Europe\n",
            "Conversion Rate Add_payment_info Group 1: 3.82%\n",
            "Conversion Rate Add_payment_info Group 2: 5.37%\n",
            "Metric_change Add_payment_info: 40.32%\n",
            "Z-statistic for Add_payment_info: -4.7869707211827635\n",
            "P-value for Add_payment_info: 1.6931752371532812e-06\n",
            "P-value for Add_payment_info: 1.6931752371532812e-06\n",
            "Significant for Add_payment_info: True\n",
            "--------------------------------------------------\n",
            "Conversion Rate Add_shipping_info Group 1: 6.23%\n",
            "Conversion Rate Add_shipping_info Group 2: 7.19%\n",
            "Metric_change Add_shipping_info: 15.44%\n",
            "Z-statistic for Add_shipping_info: -2.4992734199700153\n",
            "P-value for Add_shipping_info: 0.012444825223304968\n",
            "P-value for Add_shipping_info: 0.012444825223304968\n",
            "Significant for Add_shipping_info: True\n",
            "--------------------------------------------------\n",
            "Conversion Rate Begin_checkout Group 1: 7.61%\n",
            "Conversion Rate Begin_checkout Group 2: 8.83%\n",
            "Metric_change Begin_checkout: 16.02%\n",
            "Z-statistic for Begin_checkout: -2.8856068631773115\n",
            "P-value for Begin_checkout: 0.003906598111157333\n",
            "P-value for Begin_checkout: 0.003906598111157333\n",
            "Significant for Begin_checkout: True\n",
            "--------------------------------------------------\n",
            "Conversion Rate New_account Group 1: 8.26%\n",
            "Conversion Rate New_account Group 2: 8.11%\n",
            "Metric_change New_account: -1.86%\n",
            "Z-statistic for New_account: 0.3645099330655279\n",
            "P-value for New_account: 0.7154772577516382\n",
            "P-value for New_account: 0.7154772577516382\n",
            "Significant for New_account: False\n",
            "--------------------------------------------------\n",
            "\n",
            "Results for continent: Americas\n",
            "Conversion Rate Add_payment_info Group 1: 4.40%\n",
            "Conversion Rate Add_payment_info Group 2: 4.75%\n",
            "Metric_change Add_payment_info: 8.02%\n",
            "Z-statistic for Add_payment_info: -1.8864690076690442\n",
            "P-value for Add_payment_info: 0.05923178099558561\n",
            "P-value for Add_payment_info: 0.05923178099558561\n",
            "Significant for Add_payment_info: False\n",
            "--------------------------------------------------\n",
            "Conversion Rate Add_shipping_info Group 1: 6.77%\n",
            "Conversion Rate Add_shipping_info Group 2: 7.02%\n",
            "Metric_change Add_shipping_info: 3.62%\n",
            "Z-statistic for Add_shipping_info: -1.081607383526672\n",
            "P-value for Add_shipping_info: 0.27942702228096183\n",
            "P-value for Add_shipping_info: 0.27942702228096183\n",
            "Significant for Add_shipping_info: False\n",
            "--------------------------------------------------\n",
            "Conversion Rate Begin_checkout Group 1: 8.46%\n",
            "Conversion Rate Begin_checkout Group 2: 8.74%\n",
            "Metric_change Begin_checkout: 3.22%\n",
            "Z-statistic for Begin_checkout: -1.0849596295904647\n",
            "P-value for Begin_checkout: 0.27793953584638764\n",
            "P-value for Begin_checkout: 0.27793953584638764\n",
            "Significant for Begin_checkout: False\n",
            "--------------------------------------------------\n",
            "Conversion Rate New_account Group 1: 8.60%\n",
            "Conversion Rate New_account Group 2: 7.96%\n",
            "Metric_change New_account: -7.51%\n",
            "Z-statistic for New_account: 2.618688772701914\n",
            "P-value for New_account: 0.008826843842463641\n",
            "P-value for New_account: 0.008826843842463641\n",
            "Significant for New_account: True\n",
            "--------------------------------------------------\n",
            "\n",
            "Results for continent: Asia\n",
            "Conversion Rate Add_payment_info Group 1: 4.82%\n",
            "Conversion Rate Add_payment_info Group 2: 4.99%\n",
            "Metric_change Add_payment_info: 3.47%\n",
            "Z-statistic for Add_payment_info: -0.5676947631576548\n",
            "P-value for Add_payment_info: 0.5702422481017848\n",
            "P-value for Add_payment_info: 0.5702422481017848\n",
            "Significant for Add_payment_info: False\n",
            "--------------------------------------------------\n",
            "Conversion Rate Add_shipping_info Group 1: 6.87%\n",
            "Conversion Rate Add_shipping_info Group 2: 7.30%\n",
            "Metric_change Add_shipping_info: 6.26%\n",
            "Z-statistic for Add_shipping_info: -1.2292253315665436\n",
            "P-value for Add_shipping_info: 0.21898733380776259\n",
            "P-value for Add_shipping_info: 0.21898733380776259\n",
            "Significant for Add_shipping_info: False\n",
            "--------------------------------------------------\n",
            "Conversion Rate Begin_checkout Group 1: 8.61%\n",
            "Conversion Rate Begin_checkout Group 2: 9.17%\n",
            "Metric_change Begin_checkout: 6.44%\n",
            "Z-statistic for Begin_checkout: -1.430805878522854\n",
            "P-value for Begin_checkout: 0.15248585784948884\n",
            "P-value for Begin_checkout: 0.15248585784948884\n",
            "Significant for Begin_checkout: False\n",
            "--------------------------------------------------\n",
            "Conversion Rate New_account Group 1: 8.26%\n",
            "Conversion Rate New_account Group 2: 8.54%\n",
            "Metric_change New_account: 3.40%\n",
            "Z-statistic for New_account: -0.7433357778935705\n",
            "P-value for New_account: 0.45727841568459116\n",
            "P-value for New_account: 0.45727841568459116\n",
            "Significant for New_account: False\n",
            "--------------------------------------------------\n",
            "\n",
            "Results for continent: Africa\n",
            "Conversion Rate Add_payment_info Group 1: 3.85%\n",
            "Conversion Rate Add_payment_info Group 2: 5.06%\n",
            "Metric_change Add_payment_info: 31.65%\n",
            "Z-statistic for Add_payment_info: -0.9188080662023684\n",
            "P-value for Add_payment_info: 0.3581959726668148\n",
            "P-value for Add_payment_info: 0.3581959726668148\n",
            "Significant for Add_payment_info: False\n",
            "--------------------------------------------------\n",
            "Conversion Rate Add_shipping_info Group 1: 8.30%\n",
            "Conversion Rate Add_shipping_info Group 2: 5.91%\n",
            "Metric_change Add_shipping_info: -28.83%\n",
            "Z-statistic for Add_shipping_info: 1.4461846468226958\n",
            "P-value for Add_shipping_info: 0.14812541880677874\n",
            "P-value for Add_shipping_info: 0.14812541880677874\n",
            "Significant for Add_shipping_info: False\n",
            "--------------------------------------------------\n",
            "Conversion Rate Begin_checkout Group 1: 10.93%\n",
            "Conversion Rate Begin_checkout Group 2: 6.96%\n",
            "Metric_change Begin_checkout: -36.31%\n",
            "Z-statistic for Begin_checkout: 2.1584406971775025\n",
            "P-value for Begin_checkout: 0.03089358445102105\n",
            "P-value for Begin_checkout: 0.03089358445102105\n",
            "Significant for Begin_checkout: True\n",
            "--------------------------------------------------\n",
            "Conversion Rate New_account Group 1: 7.29%\n",
            "Conversion Rate New_account Group 2: 8.02%\n",
            "Metric_change New_account: 10.01%\n",
            "Z-statistic for New_account: -0.42696107223150703\n",
            "P-value for New_account: 0.6694076814720262\n",
            "P-value for New_account: 0.6694076814720262\n",
            "Significant for New_account: False\n",
            "--------------------------------------------------\n",
            "\n",
            "Results for continent: Oceania\n",
            "Conversion Rate Add_payment_info Group 1: 3.73%\n",
            "Conversion Rate Add_payment_info Group 2: 4.24%\n",
            "Metric_change Add_payment_info: 13.65%\n",
            "Z-statistic for Add_payment_info: -0.41276406124343307\n",
            "P-value for Add_payment_info: 0.6797794846465908\n",
            "P-value for Add_payment_info: 0.6797794846465908\n",
            "Significant for Add_payment_info: False\n",
            "--------------------------------------------------\n",
            "Conversion Rate Add_shipping_info Group 1: 5.30%\n",
            "Conversion Rate Add_shipping_info Group 2: 7.68%\n",
            "Metric_change Add_shipping_info: 44.72%\n",
            "Z-statistic for Add_shipping_info: -1.5272113645623135\n",
            "P-value for Add_shipping_info: 0.1267084612612821\n",
            "P-value for Add_shipping_info: 0.1267084612612821\n",
            "Significant for Add_shipping_info: False\n",
            "--------------------------------------------------\n",
            "Conversion Rate Begin_checkout Group 1: 7.07%\n",
            "Conversion Rate Begin_checkout Group 2: 11.31%\n",
            "Metric_change Begin_checkout: 59.96%\n",
            "Z-statistic for Begin_checkout: -2.3283481117626224\n",
            "P-value for Begin_checkout: 0.019893626513698515\n",
            "P-value for Begin_checkout: 0.019893626513698515\n",
            "Significant for Begin_checkout: True\n",
            "--------------------------------------------------\n",
            "Conversion Rate New_account Group 1: 7.27%\n",
            "Conversion Rate New_account Group 2: 8.89%\n",
            "Metric_change New_account: 22.28%\n",
            "Z-statistic for New_account: -0.9421685443306644\n",
            "P-value for New_account: 0.3461063557480396\n",
            "P-value for New_account: 0.3461063557480396\n",
            "Significant for New_account: False\n",
            "--------------------------------------------------\n"
          ]
        }
      ]
    },
    {
      "cell_type": "markdown",
      "source": [
        "**Висновок за результатами A/B тесту 1 в розрізі континентів:**\n",
        "\n",
        "*Європа*\n",
        "\n",
        "Тест показав статистично значущі покращення для трьох метрик:\n",
        "- Add_payment_info: зростання на 40.32%, p-value < 0.0001 (значущо).\n",
        "- Add_shipping_info: зростання на 15.44%, p-value = 0.0124 (значущо).\n",
        "- Begin_checkout: зростання на 16.02%, p-value = 0.0039 (значущо).\n",
        "- New_account: зміни на -1.86%, p-value = 0.7155, не значущо.\n",
        "\n",
        "*Америка*\n",
        "\n",
        "Для жодної метрики не виявлено значущих покращень, проте спостерігається негативний вплив на реєстрацію нових акаунтів:\n",
        "- Add_payment_info: зростання на 8.02%, p-value = 0.0592, не значущо.\n",
        "- Add_shipping_info: зростання на 3.62%, p-value = 0.2794, не значущо.\n",
        "- Begin_checkout: зростання на 3.22%, p-value = 0.2779, не значущо.\n",
        "- New_account: зниження на 7.51%, p-value = 0.0088 (значущо).\n",
        "\n",
        "*Азія*\n",
        "\n",
        "Жодна з метрик не показала статистично значущих змін:\n",
        "- Add_payment_info: зростання на 3.47%, p-value = 0.5702, не значущо.\n",
        "- Add_shipping_info: зростання на 6.26%, p-value = 0.2190, не значущо.\n",
        "- Begin_checkout: зростання на 6.44%, p-value = 0.1525, не значущо.\n",
        "- New_account: зростання на 3.40%, p-value = 0.4573, не значущо.\n",
        "\n",
        "*Африка*\n",
        "\n",
        "Результати мають низьку достовірність через нерівномірний розподіл користувачів та малий обсяг даних, однак є значуще зниження для Begin_checkout:\n",
        "- Add_payment_info: зростання на 31.65%, p-value = 0.3582, не значущо.\n",
        "- Add_shipping_info: зниження на 28.83%, p-value = 0.1481, не значущо.\n",
        "- Begin_checkout: зниження на 36.31%, p-value = 0.0309 (значущо).\n",
        "- New_account: зростання на 10.01%, p-value = 0.6694, не значущо.\n",
        "\n",
        "*Океанія*\n",
        "\n",
        "Результати мають низьку достовірність через малий обсяг даних, проте виявлено значуще покращення для Begin_checkout:\n",
        "- Add_payment_info: зростання на 13.65%, p-value = 0.6798, не значущо.\n",
        "- Add_shipping_info: зростання на 44.72%, p-value = 0.1267, не значущо.\n",
        "- Begin_checkout: зростання на 59.96%, p-value = 0.0199 (значущо).\n",
        "- New_account: зростання на 22.28%, p-value = 0.3461, не значущо.\n",
        "\n",
        "Загальні висновки:\n",
        "- Європа показала найбільший позитивний вплив змін, особливо для Add_payment_info, Add_shipping_info та Begin_checkout.\n",
        "- Америка не продемонструвала значущих покращень, проте New_account знизився.\n",
        "- Азія не показала статистично значущих змін.\n",
        "- Африка та Океанія мають малий обсяг даних, тому результати менш достовірні. В Африці значуще зниження Begin_checkout, а в Океанії значуще покращення Begin_checkout.\n",
        "\n",
        "Рекомендується впровадити зміни для Європи, оскільки ефект значний і статистично підтверджений та переглянути вплив змін в Америці, особливо через зниження New_account. Аналіз для Африки та Океанії потребує додаткових досліджень через малий розмір вибірки. Загалом, тест показав найбільшу ефективність для користувачів у Європі та частково в Океанії, тоді як результати в Африці та Америці можуть потребувати коригувань.\n",
        "\n",
        "\n"
      ],
      "metadata": {
        "id": "9JkhokAgIbWZ"
      }
    },
    {
      "cell_type": "markdown",
      "source": [
        "## Створення фінального файлу з результатами для подальшої візуалізації."
      ],
      "metadata": {
        "id": "vzydzFcAoRM6"
      }
    },
    {
      "cell_type": "code",
      "source": [
        "# Функція для розрахунку статистики та додавання результатів у загальний список\n",
        "def calculate_and_append_results(df, test_name, category_name, results):\n",
        "    metrics = ['add_payment_info', 'add_shipping_info', 'begin_checkout', 'new_account']\n",
        "\n",
        "    for metric in metrics:\n",
        "        # Витягуємо сесії та метрики для обох груп\n",
        "        session_1 = df.loc[df[\"event_name\"] == \"session\", \"test_group1\"].iloc[0]\n",
        "        session_2 = df.loc[df[\"event_name\"] == \"session\", \"test_group2\"].iloc[0]\n",
        "        event_1 = df.loc[df[\"event_name\"] == metric, \"test_group1\"].iloc[0]\n",
        "        event_2 = df.loc[df[\"event_name\"] == metric, \"test_group2\"].iloc[0]\n",
        "\n",
        "        # Обчислення конверсій\n",
        "        conversion_rate_1 = event_1 / session_1\n",
        "        conversion_rate_2 = event_2 / session_2\n",
        "        metric_change = conversion_rate_2 / conversion_rate_1 - 1\n",
        "\n",
        "        # Виконуємо Z-тест\n",
        "        z_stat, p_value = sm.stats.proportions_ztest([event_1, event_2], [session_1, session_2])\n",
        "        significant = p_value < 0.05  # Чи значуща відмінність\n",
        "\n",
        "        # Додаємо результат у список\n",
        "        results.append({\n",
        "            \"Test Name\": test_name,\n",
        "            \"Category\": category_name,\n",
        "            \"Metric\": metric,\n",
        "            \"Numerator_1\": \"Session\",  # Вказуємо, що це сесії для групи 1\n",
        "            \"Denominator_1\": metric,\n",
        "            \"Numerator_1_value\": f\"{session_1}\",\n",
        "            \"Denominator_1_value\": f\"{event_1}\",\n",
        "            \"Numerator_2\": \"Session\",  # Вказуємо, що це сесії для групи 2\n",
        "            \"Denominator_2\": metric,\n",
        "            \"Numerator_2_value\": f\"{session_2}\",\n",
        "            \"Denominator_2_value\": f\"{event_2}\",\n",
        "            \"Group 1 Conversion\": f\"{conversion_rate_1:.2%}\",\n",
        "            \"Group 2 Conversion\": f\"{conversion_rate_2:.2%}\",\n",
        "            \"Metric Change\": f\"{metric_change:.2%}\",\n",
        "            \"Z-Statistic\": round(z_stat, 4),\n",
        "            \"P-Value\": round(p_value, 4),\n",
        "            \"Significant\": significant\n",
        "        })\n",
        "\n",
        "# Список для зберігання всіх результатів\n",
        "all_results = []\n",
        "\n",
        "# Тести для тотального аналізу\n",
        "tests = {\n",
        "    \"Test1\": grouped_df1,\n",
        "    \"Test2\": grouped_df2,\n",
        "    \"Test3\": grouped_df3,\n",
        "    \"Test4\": grouped_df4\n",
        "}\n",
        "\n",
        "# Зберігаємо результати для кожного тесту в тоталі\n",
        "for test_name, df in tests.items():\n",
        "    calculate_and_append_results(df, test_name, \"Total\", all_results)\n",
        "\n",
        "# Аналіз по каналах\n",
        "channel_datasets = {\n",
        "    \"Direct\": grouped_df1_direct,\n",
        "    \"Organic Search\": grouped_df1_os,\n",
        "    \"Social Search\": grouped_df1_ss,\n",
        "    \"Paid Search\": grouped_df1_ps\n",
        "}\n",
        "for channel, df in channel_datasets.items():\n",
        "    calculate_and_append_results(df, \"Test1\", channel, all_results)\n",
        "\n",
        "# Аналіз по пристроях\n",
        "device_datasets = {\n",
        "    \"Desktop\": grouped_df1_desktop,\n",
        "    \"Mobile\": grouped_df1_mobile,\n",
        "    \"Tablet\": grouped_df1_tablet\n",
        "}\n",
        "for device, df in device_datasets.items():\n",
        "    calculate_and_append_results(df, \"Test1\", device, all_results)\n",
        "\n",
        "# Аналіз по континентах\n",
        "continent_datasets = {\n",
        "    \"Europe\": grouped_df1_eu,\n",
        "    \"America\": grouped_df1_am,\n",
        "    \"Asia\": grouped_df1_as,\n",
        "    \"Africa\": grouped_df1_af,\n",
        "    \"Oceania\": grouped_df1_oc\n",
        "}\n",
        "for continent, df in continent_datasets.items():\n",
        "    calculate_and_append_results(df, \"Test1\", continent, all_results)\n",
        "\n",
        "# Створюємо DataFrame і записуємо у CSV один файл\n",
        "results_df = pd.DataFrame(all_results)\n",
        "results_df.to_csv('all_ab_test_results.csv', index=False)"
      ],
      "metadata": {
        "id": "oHLoREuooTBU"
      },
      "execution_count": null,
      "outputs": []
    },
    {
      "cell_type": "code",
      "source": [
        "from google.colab import files\n",
        "# Завантаження файлу\n",
        "files.download('all_ab_test_results.csv')"
      ],
      "metadata": {
        "colab": {
          "base_uri": "https://localhost:8080/",
          "height": 17
        },
        "id": "Lhl8kXnqtRfh",
        "outputId": "c9a48e9b-6910-4939-fa23-1002b56a9b40"
      },
      "execution_count": null,
      "outputs": [
        {
          "output_type": "display_data",
          "data": {
            "text/plain": [
              "<IPython.core.display.Javascript object>"
            ],
            "application/javascript": [
              "\n",
              "    async function download(id, filename, size) {\n",
              "      if (!google.colab.kernel.accessAllowed) {\n",
              "        return;\n",
              "      }\n",
              "      const div = document.createElement('div');\n",
              "      const label = document.createElement('label');\n",
              "      label.textContent = `Downloading \"${filename}\": `;\n",
              "      div.appendChild(label);\n",
              "      const progress = document.createElement('progress');\n",
              "      progress.max = size;\n",
              "      div.appendChild(progress);\n",
              "      document.body.appendChild(div);\n",
              "\n",
              "      const buffers = [];\n",
              "      let downloaded = 0;\n",
              "\n",
              "      const channel = await google.colab.kernel.comms.open(id);\n",
              "      // Send a message to notify the kernel that we're ready.\n",
              "      channel.send({})\n",
              "\n",
              "      for await (const message of channel.messages) {\n",
              "        // Send a message to notify the kernel that we're ready.\n",
              "        channel.send({})\n",
              "        if (message.buffers) {\n",
              "          for (const buffer of message.buffers) {\n",
              "            buffers.push(buffer);\n",
              "            downloaded += buffer.byteLength;\n",
              "            progress.value = downloaded;\n",
              "          }\n",
              "        }\n",
              "      }\n",
              "      const blob = new Blob(buffers, {type: 'application/binary'});\n",
              "      const a = document.createElement('a');\n",
              "      a.href = window.URL.createObjectURL(blob);\n",
              "      a.download = filename;\n",
              "      div.appendChild(a);\n",
              "      a.click();\n",
              "      div.remove();\n",
              "    }\n",
              "  "
            ]
          },
          "metadata": {}
        },
        {
          "output_type": "display_data",
          "data": {
            "text/plain": [
              "<IPython.core.display.Javascript object>"
            ],
            "application/javascript": [
              "download(\"download_c01c0bf1-b405-4e30-a55b-fe0123a47590\", \"all_ab_test_results.csv\", 8881)"
            ]
          },
          "metadata": {}
        }
      ]
    },
    {
      "cell_type": "markdown",
      "source": [
        "## Посилання на результати аналізу."
      ],
      "metadata": {
        "id": "RFAmWW3JJZGv"
      }
    },
    {
      "cell_type": "markdown",
      "source": [
        "### Посилання на дашборд в Tableau.\n",
        "\n",
        "https://public.tableau.com/views/ABTestingTool/Dashboard1?:language=en-GB&publish=yes&:sid=&:redirect=auth&:display_count=n&:origin=viz_share_link"
      ],
      "metadata": {
        "id": "WSzCZVyjKYZt"
      }
    },
    {
      "cell_type": "markdown",
      "source": [
        "### Посилання на csv файл з результатами розрахунків.\n",
        "https://docs.google.com/spreadsheets/d/1HiiG41VCCVNTdXUslgSXVy4NNMPIV1AXS_pHPF8Wnic/edit?usp=sharing"
      ],
      "metadata": {
        "id": "_13vEynlKlun"
      }
    }
  ]
}